{
  "nbformat": 4,
  "nbformat_minor": 0,
  "metadata": {
    "colab": {
      "provenance": [],
      "authorship_tag": "ABX9TyPy0kSwoy8sjCm3fBZqpKEH",
      "include_colab_link": true
    },
    "kernelspec": {
      "name": "python3",
      "display_name": "Python 3"
    },
    "language_info": {
      "name": "python"
    }
  },
  "cells": [
    {
      "cell_type": "markdown",
      "metadata": {
        "id": "view-in-github",
        "colab_type": "text"
      },
      "source": [
        "<a href=\"https://colab.research.google.com/github/JosephHauser912/Advanced-Data/blob/main/JSON_dump_and_load.ipynb\" target=\"_parent\"><img src=\"https://colab.research.google.com/assets/colab-badge.svg\" alt=\"Open In Colab\"/></a>"
      ]
    },
    {
      "cell_type": "code",
      "execution_count": 4,
      "metadata": {
        "id": "QzBmM1Imwk8H"
      },
      "outputs": [],
      "source": [
        "d = { \"PONumber\" : 2608,\n",
        "     \"ShippingInstructions\" :{\"name\" : \"John Silver\",\n",
        "                              \"Address\": {\"street\":\"426 Light Street\",\n",
        "                                          \"city\": \"South San Francisco\",\n",
        "                                          \"state\" : \"CA\",\n",
        "                                          \"zipCode\": 99237,\n",
        "                                          \"country\":\"United States of America\"},\n",
        "                              \"Phone\": [{\"type\": \"office\", \"number\" : \"809-125-9309\"},\n",
        "                                        {\"type\": \"mobile\",\"number\":\"417-123-4567\"}]\n",
        "     }}"
      ]
    },
    {
      "cell_type": "code",
      "source": [
        "import json\n",
        "with open(\"po.json\", \"w\") as outfile:\n",
        "  json.dump(d, outfile)"
      ],
      "metadata": {
        "id": "YPqZZ2zoyBkp"
      },
      "execution_count": 6,
      "outputs": []
    },
    {
      "cell_type": "code",
      "source": [
        "with open(\"po.json\",) as fp:\n",
        "  d = json.load(fp)"
      ],
      "metadata": {
        "id": "Kkqrj14ay23W"
      },
      "execution_count": 7,
      "outputs": []
    }
  ]
}