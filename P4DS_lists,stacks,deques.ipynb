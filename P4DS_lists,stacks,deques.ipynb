{
  "nbformat": 4,
  "nbformat_minor": 0,
  "metadata": {
    "colab": {
      "provenance": [],
      "authorship_tag": "ABX9TyMcCdSOcSvCPbWRHwo2IQDU",
      "include_colab_link": true
    },
    "kernelspec": {
      "name": "python3",
      "display_name": "Python 3"
    },
    "language_info": {
      "name": "python"
    }
  },
  "cells": [
    {
      "cell_type": "markdown",
      "metadata": {
        "id": "view-in-github",
        "colab_type": "text"
      },
      "source": [
        "<a href=\"https://colab.research.google.com/github/JosephHauser912/Advanced-Data/blob/main/P4DS_lists%2Cstacks%2Cdeques.ipynb\" target=\"_parent\"><img src=\"https://colab.research.google.com/assets/colab-badge.svg\" alt=\"Open In Colab\"/></a>"
      ]
    },
    {
      "cell_type": "code",
      "execution_count": 1,
      "metadata": {
        "id": "JobApEC1KMnN"
      },
      "outputs": [],
      "source": [
        "my_list = []"
      ]
    },
    {
      "cell_type": "code",
      "source": [
        "my_list.append('Pay Bills')\n",
        "my_list.append('Tidy Up')\n",
        "my_list.append('Walk the Dog')\n",
        "my_list.append('Cook Dinner')"
      ],
      "metadata": {
        "id": "3QKUPneNKPLq"
      },
      "execution_count": 3,
      "outputs": []
    },
    {
      "cell_type": "code",
      "source": [
        "print(my_list[0])"
      ],
      "metadata": {
        "colab": {
          "base_uri": "https://localhost:8080/"
        },
        "id": "1ZObm5IrKmH9",
        "outputId": "f2683369-6ad0-4a30-9aa1-66b761d4f43c"
      },
      "execution_count": 4,
      "outputs": [
        {
          "output_type": "stream",
          "name": "stdout",
          "text": [
            "Pay Bills\n"
          ]
        }
      ]
    },
    {
      "cell_type": "code",
      "source": [
        "i = my_list.index('Cook Dinner')\n",
        "i"
      ],
      "metadata": {
        "colab": {
          "base_uri": "https://localhost:8080/"
        },
        "id": "NQRGJDOrKoaV",
        "outputId": "a97aedd1-8b9a-44d0-d927-ec0a6bf21b7e"
      },
      "execution_count": 6,
      "outputs": [
        {
          "output_type": "execute_result",
          "data": {
            "text/plain": [
              "3"
            ]
          },
          "metadata": {},
          "execution_count": 6
        }
      ]
    },
    {
      "cell_type": "code",
      "source": [
        "my_list.insert(i, \"Go to the Pharmacy\")"
      ],
      "metadata": {
        "id": "pVhtjZL_Kt21"
      },
      "execution_count": 8,
      "outputs": []
    },
    {
      "cell_type": "code",
      "source": [
        "my_list.remove('Go to the Pharmacy')\n"
      ],
      "metadata": {
        "id": "auOJxiRjKyb-"
      },
      "execution_count": 10,
      "outputs": []
    },
    {
      "cell_type": "code",
      "source": [
        "my_list"
      ],
      "metadata": {
        "colab": {
          "base_uri": "https://localhost:8080/"
        },
        "id": "Z4dFe0kvK4gW",
        "outputId": "ff2ac768-862a-4fa7-fc6b-1b5cfc51451b"
      },
      "execution_count": 11,
      "outputs": [
        {
          "output_type": "execute_result",
          "data": {
            "text/plain": [
              "['Pay Bills', 'Tidy Up', 'Walk the Dog', 'Go to the Pharmacy', 'Cook Dinner']"
            ]
          },
          "metadata": {},
          "execution_count": 11
        }
      ]
    },
    {
      "cell_type": "code",
      "source": [
        "print(my_list.count('Tidy Up'))"
      ],
      "metadata": {
        "colab": {
          "base_uri": "https://localhost:8080/"
        },
        "id": "zT7bm7owK9bt",
        "outputId": "6773ab07-6a44-4853-d62d-4dc3d0e382e9"
      },
      "execution_count": 13,
      "outputs": [
        {
          "output_type": "stream",
          "name": "stdout",
          "text": [
            "1\n"
          ]
        }
      ]
    },
    {
      "cell_type": "code",
      "source": [
        "print(my_list[0:3])"
      ],
      "metadata": {
        "colab": {
          "base_uri": "https://localhost:8080/"
        },
        "id": "5wuqbN3mLEbr",
        "outputId": "185c3615-07c1-48a8-89c1-ae9b988a89e6"
      },
      "execution_count": 14,
      "outputs": [
        {
          "output_type": "stream",
          "name": "stdout",
          "text": [
            "['Pay Bills', 'Tidy Up', 'Walk the Dog']\n"
          ]
        }
      ]
    },
    {
      "cell_type": "code",
      "source": [
        "my_list[len(my_list):] = ['Mow the Lawn', 'Water Plants']"
      ],
      "metadata": {
        "id": "X9HAbvEYLJ86"
      },
      "execution_count": 15,
      "outputs": []
    },
    {
      "cell_type": "code",
      "source": [
        "my_list"
      ],
      "metadata": {
        "colab": {
          "base_uri": "https://localhost:8080/"
        },
        "id": "Bicbn8OpLUJp",
        "outputId": "643110bf-a489-4997-bd4f-9fc5f7c78d0c"
      },
      "execution_count": 16,
      "outputs": [
        {
          "output_type": "execute_result",
          "data": {
            "text/plain": [
              "['Pay Bills',\n",
              " 'Tidy Up',\n",
              " 'Walk the Dog',\n",
              " 'Go to the Pharmacy',\n",
              " 'Cook Dinner',\n",
              " 'Mow the Lawn',\n",
              " 'Water Plants']"
            ]
          },
          "metadata": {},
          "execution_count": 16
        }
      ]
    },
    {
      "cell_type": "code",
      "source": [
        "from collections import deque"
      ],
      "metadata": {
        "id": "spA1F4NeLdK4"
      },
      "execution_count": 17,
      "outputs": []
    },
    {
      "cell_type": "code",
      "source": [
        "queue = deque(my_list)"
      ],
      "metadata": {
        "id": "oKNkE206LfII"
      },
      "execution_count": 18,
      "outputs": []
    },
    {
      "cell_type": "code",
      "source": [
        "queue.append('Wash the Car')\n",
        "print(queue.popleft(), ' - Done!')\n",
        "my_list_upd = list(queue)"
      ],
      "metadata": {
        "colab": {
          "base_uri": "https://localhost:8080/"
        },
        "id": "vypM8uwpLiEI",
        "outputId": "d84b86c0-5158-4123-9d49-ec185d4d3b80"
      },
      "execution_count": 20,
      "outputs": [
        {
          "output_type": "stream",
          "name": "stdout",
          "text": [
            "Tidy Up  - Done!\n"
          ]
        }
      ]
    },
    {
      "cell_type": "code",
      "source": [
        "my_list.insert"
      ],
      "metadata": {
        "colab": {
          "base_uri": "https://localhost:8080/"
        },
        "id": "qi81e7qDNTS3",
        "outputId": "9e770712-9ea9-444b-dcb0-4ef7e99a9dfc"
      },
      "execution_count": 21,
      "outputs": [
        {
          "output_type": "stream",
          "name": "stdout",
          "text": [
            "deque(['Walk the Dog', 'Go to the Pharmacy', 'Cook Dinner', 'Mow the Lawn', 'Water Plants', 'Wash the Car', 'Wash the Car'])\n"
          ]
        }
      ]
    },
    {
      "cell_type": "code",
      "source": [
        "stack = []\n",
        "for task in my_list: \n",
        "  stack.append(task)\n",
        "while stack:\n",
        "  print(stack.pop(), ' - Done!')\n",
        "print('\\n The stack is empty!')"
      ],
      "metadata": {
        "colab": {
          "base_uri": "https://localhost:8080/"
        },
        "id": "NgnbKVE9N5mt",
        "outputId": "e3c0b766-e3ec-4f2d-c410-1dd6a8f49fdc"
      },
      "execution_count": 23,
      "outputs": [
        {
          "output_type": "stream",
          "name": "stdout",
          "text": [
            "Water Plants  - Done!\n",
            "Mow the Lawn  - Done!\n",
            "Cook Dinner  - Done!\n",
            "Go to the Pharmacy  - Done!\n",
            "Walk the Dog  - Done!\n",
            "Tidy Up  - Done!\n",
            "Pay Bills  - Done!\n",
            "\n",
            " The stack is empty!\n"
          ]
        }
      ]
    }
  ]
}