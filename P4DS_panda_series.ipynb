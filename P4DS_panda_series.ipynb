{
  "nbformat": 4,
  "nbformat_minor": 0,
  "metadata": {
    "colab": {
      "provenance": [],
      "authorship_tag": "ABX9TyPH4NaTkz1kvnQY4dgPT3Al",
      "include_colab_link": true
    },
    "kernelspec": {
      "name": "python3",
      "display_name": "Python 3"
    },
    "language_info": {
      "name": "python"
    }
  },
  "cells": [
    {
      "cell_type": "markdown",
      "metadata": {
        "id": "view-in-github",
        "colab_type": "text"
      },
      "source": [
        "<a href=\"https://colab.research.google.com/github/JosephHauser912/Advanced-Data/blob/main/P4DS_panda_series.ipynb\" target=\"_parent\"><img src=\"https://colab.research.google.com/assets/colab-badge.svg\" alt=\"Open In Colab\"/></a>"
      ]
    },
    {
      "cell_type": "code",
      "execution_count": 2,
      "metadata": {
        "colab": {
          "base_uri": "https://localhost:8080/"
        },
        "id": "f9hVeUWMMnBH",
        "outputId": "9b234204-a615-4839-90a4-957c5031c101"
      },
      "outputs": [
        {
          "output_type": "stream",
          "name": "stdout",
          "text": [
            "0    Jeff Russell\n",
            "1    Jane Boorman\n",
            "2      Tom Heints\n",
            "dtype: object\n"
          ]
        }
      ],
      "source": [
        "import pandas as pd\n",
        "data = ['Jeff Russell', 'Jane Boorman', 'Tom Heints']\n",
        "emps_names = pd.Series(data)\n",
        "print(emps_names)"
      ]
    },
    {
      "cell_type": "code",
      "source": [
        "emps_names = pd.Series(data, index=[9001,9002,9003])\n",
        "print(emps_names)"
      ],
      "metadata": {
        "colab": {
          "base_uri": "https://localhost:8080/"
        },
        "id": "ii9B1qEXNEcq",
        "outputId": "829c9645-0505-4f79-b75a-988daa77f469"
      },
      "execution_count": 3,
      "outputs": [
        {
          "output_type": "stream",
          "name": "stdout",
          "text": [
            "9001    Jeff Russell\n",
            "9002    Jane Boorman\n",
            "9003      Tom Heints\n",
            "dtype: object\n"
          ]
        }
      ]
    },
    {
      "cell_type": "code",
      "source": [
        "print(emps_names[9003])"
      ],
      "metadata": {
        "colab": {
          "base_uri": "https://localhost:8080/"
        },
        "id": "d_9lW3GaNNzg",
        "outputId": "562a948f-5802-4bbf-997d-9540c020b304"
      },
      "execution_count": 5,
      "outputs": [
        {
          "output_type": "stream",
          "name": "stdout",
          "text": [
            "Tom Heints\n"
          ]
        }
      ]
    },
    {
      "cell_type": "code",
      "source": [
        "print(emps_names.loc[9001])"
      ],
      "metadata": {
        "colab": {
          "base_uri": "https://localhost:8080/"
        },
        "id": "BPcBhHHfNUSB",
        "outputId": "28c591a3-7b19-47ac-8093-1ea10015fed5"
      },
      "execution_count": 6,
      "outputs": [
        {
          "output_type": "stream",
          "name": "stdout",
          "text": [
            "Jeff Russell\n"
          ]
        }
      ]
    },
    {
      "cell_type": "code",
      "source": [
        "print(emps_names.iloc[0])"
      ],
      "metadata": {
        "colab": {
          "base_uri": "https://localhost:8080/"
        },
        "id": "qNsTmcLxNdjA",
        "outputId": "a9cfb90a-b823-4e58-a86f-0b257b7d348d"
      },
      "execution_count": 7,
      "outputs": [
        {
          "output_type": "stream",
          "name": "stdout",
          "text": [
            "Jeff Russell\n"
          ]
        }
      ]
    },
    {
      "cell_type": "code",
      "source": [
        "emps_emails = pd.Series(data,index=[9001,9002,9003], name = 'emails')"
      ],
      "metadata": {
        "id": "38zmNYjaNf8G"
      },
      "execution_count": 10,
      "outputs": []
    },
    {
      "cell_type": "code",
      "source": [
        "emps_names.name = 'names'\n"
      ],
      "metadata": {
        "id": "ViZ22LetN8IV"
      },
      "execution_count": 11,
      "outputs": []
    },
    {
      "cell_type": "code",
      "source": [
        "emps_phones = pd.Series(data,index=[9001,9002,9003], name='phones')"
      ],
      "metadata": {
        "id": "JH1qMkQhPCLH"
      },
      "execution_count": 15,
      "outputs": []
    },
    {
      "cell_type": "code",
      "source": [
        "df = pd.concat([emps_names, emps_emails, emps_phones], axis=1)\n",
        "print(df)"
      ],
      "metadata": {
        "colab": {
          "base_uri": "https://localhost:8080/"
        },
        "id": "W0uzz9ZhOD3U",
        "outputId": "0cca64b6-81ec-4488-9aa2-ca868dbb4bb6"
      },
      "execution_count": 16,
      "outputs": [
        {
          "output_type": "stream",
          "name": "stdout",
          "text": [
            "             names        emails        phones\n",
            "9001  Jeff Russell  Jeff Russell  Jeff Russell\n",
            "9002  Jane Boorman  Jane Boorman  Jane Boorman\n",
            "9003    Tom Heints    Tom Heints    Tom Heints\n"
          ]
        }
      ]
    },
    {
      "cell_type": "code",
      "source": [
        "import yfinance as yf\n",
        "tkr = yf.Ticker('TSLA')\n",
        "hist = tkr.history(period='5d')\n",
        "hist = hist.drop(\"Dividends\", axis = 1)\n",
        "hist = hist.drop(\"Stock Splits\", axis = 1)\n",
        "hist = hist.reset_index()\n",
        "print(hist)"
      ],
      "metadata": {
        "colab": {
          "base_uri": "https://localhost:8080/"
        },
        "id": "s0fvBBx7Pc4m",
        "outputId": "afe09bf1-ce55-4ad6-8886-3e2116080f35"
      },
      "execution_count": 18,
      "outputs": [
        {
          "output_type": "stream",
          "name": "stdout",
          "text": [
            "                       Date        Open        High         Low       Close  \\\n",
            "0 2023-05-30 00:00:00-04:00  200.100006  204.479996  197.529999  201.160004   \n",
            "1 2023-05-31 00:00:00-04:00  199.779999  203.949997  195.119995  203.929993   \n",
            "2 2023-06-01 00:00:00-04:00  202.589996  209.800003  199.369995  207.520004   \n",
            "3 2023-06-02 00:00:00-04:00  210.149994  217.250000  209.750000  213.970001   \n",
            "4 2023-06-05 00:00:00-04:00  217.800003  221.289993  216.399994  217.500000   \n",
            "\n",
            "      Volume  \n",
            "0  128818700  \n",
            "1  150711700  \n",
            "2  148029900  \n",
            "3  164129000  \n",
            "4   78680398  \n"
          ]
        }
      ]
    },
    {
      "cell_type": "code",
      "source": [
        "hist.set_index('Date')"
      ],
      "metadata": {
        "colab": {
          "base_uri": "https://localhost:8080/",
          "height": 238
        },
        "id": "vU-w23nqQTC6",
        "outputId": "7b1ae74c-8b9a-4f16-d9d9-4c18c213e65c"
      },
      "execution_count": 19,
      "outputs": [
        {
          "output_type": "execute_result",
          "data": {
            "text/plain": [
              "                                 Open        High         Low       Close  \\\n",
              "Date                                                                        \n",
              "2023-05-30 00:00:00-04:00  200.100006  204.479996  197.529999  201.160004   \n",
              "2023-05-31 00:00:00-04:00  199.779999  203.949997  195.119995  203.929993   \n",
              "2023-06-01 00:00:00-04:00  202.589996  209.800003  199.369995  207.520004   \n",
              "2023-06-02 00:00:00-04:00  210.149994  217.250000  209.750000  213.970001   \n",
              "2023-06-05 00:00:00-04:00  217.800003  221.289993  216.399994  217.500000   \n",
              "\n",
              "                              Volume  \n",
              "Date                                  \n",
              "2023-05-30 00:00:00-04:00  128818700  \n",
              "2023-05-31 00:00:00-04:00  150711700  \n",
              "2023-06-01 00:00:00-04:00  148029900  \n",
              "2023-06-02 00:00:00-04:00  164129000  \n",
              "2023-06-05 00:00:00-04:00   78680398  "
            ],
            "text/html": [
              "\n",
              "  <div id=\"df-690d9b5c-b175-415f-8631-b6c2b6a7a17c\">\n",
              "    <div class=\"colab-df-container\">\n",
              "      <div>\n",
              "<style scoped>\n",
              "    .dataframe tbody tr th:only-of-type {\n",
              "        vertical-align: middle;\n",
              "    }\n",
              "\n",
              "    .dataframe tbody tr th {\n",
              "        vertical-align: top;\n",
              "    }\n",
              "\n",
              "    .dataframe thead th {\n",
              "        text-align: right;\n",
              "    }\n",
              "</style>\n",
              "<table border=\"1\" class=\"dataframe\">\n",
              "  <thead>\n",
              "    <tr style=\"text-align: right;\">\n",
              "      <th></th>\n",
              "      <th>Open</th>\n",
              "      <th>High</th>\n",
              "      <th>Low</th>\n",
              "      <th>Close</th>\n",
              "      <th>Volume</th>\n",
              "    </tr>\n",
              "    <tr>\n",
              "      <th>Date</th>\n",
              "      <th></th>\n",
              "      <th></th>\n",
              "      <th></th>\n",
              "      <th></th>\n",
              "      <th></th>\n",
              "    </tr>\n",
              "  </thead>\n",
              "  <tbody>\n",
              "    <tr>\n",
              "      <th>2023-05-30 00:00:00-04:00</th>\n",
              "      <td>200.100006</td>\n",
              "      <td>204.479996</td>\n",
              "      <td>197.529999</td>\n",
              "      <td>201.160004</td>\n",
              "      <td>128818700</td>\n",
              "    </tr>\n",
              "    <tr>\n",
              "      <th>2023-05-31 00:00:00-04:00</th>\n",
              "      <td>199.779999</td>\n",
              "      <td>203.949997</td>\n",
              "      <td>195.119995</td>\n",
              "      <td>203.929993</td>\n",
              "      <td>150711700</td>\n",
              "    </tr>\n",
              "    <tr>\n",
              "      <th>2023-06-01 00:00:00-04:00</th>\n",
              "      <td>202.589996</td>\n",
              "      <td>209.800003</td>\n",
              "      <td>199.369995</td>\n",
              "      <td>207.520004</td>\n",
              "      <td>148029900</td>\n",
              "    </tr>\n",
              "    <tr>\n",
              "      <th>2023-06-02 00:00:00-04:00</th>\n",
              "      <td>210.149994</td>\n",
              "      <td>217.250000</td>\n",
              "      <td>209.750000</td>\n",
              "      <td>213.970001</td>\n",
              "      <td>164129000</td>\n",
              "    </tr>\n",
              "    <tr>\n",
              "      <th>2023-06-05 00:00:00-04:00</th>\n",
              "      <td>217.800003</td>\n",
              "      <td>221.289993</td>\n",
              "      <td>216.399994</td>\n",
              "      <td>217.500000</td>\n",
              "      <td>78680398</td>\n",
              "    </tr>\n",
              "  </tbody>\n",
              "</table>\n",
              "</div>\n",
              "      <button class=\"colab-df-convert\" onclick=\"convertToInteractive('df-690d9b5c-b175-415f-8631-b6c2b6a7a17c')\"\n",
              "              title=\"Convert this dataframe to an interactive table.\"\n",
              "              style=\"display:none;\">\n",
              "        \n",
              "  <svg xmlns=\"http://www.w3.org/2000/svg\" height=\"24px\"viewBox=\"0 0 24 24\"\n",
              "       width=\"24px\">\n",
              "    <path d=\"M0 0h24v24H0V0z\" fill=\"none\"/>\n",
              "    <path d=\"M18.56 5.44l.94 2.06.94-2.06 2.06-.94-2.06-.94-.94-2.06-.94 2.06-2.06.94zm-11 1L8.5 8.5l.94-2.06 2.06-.94-2.06-.94L8.5 2.5l-.94 2.06-2.06.94zm10 10l.94 2.06.94-2.06 2.06-.94-2.06-.94-.94-2.06-.94 2.06-2.06.94z\"/><path d=\"M17.41 7.96l-1.37-1.37c-.4-.4-.92-.59-1.43-.59-.52 0-1.04.2-1.43.59L10.3 9.45l-7.72 7.72c-.78.78-.78 2.05 0 2.83L4 21.41c.39.39.9.59 1.41.59.51 0 1.02-.2 1.41-.59l7.78-7.78 2.81-2.81c.8-.78.8-2.07 0-2.86zM5.41 20L4 18.59l7.72-7.72 1.47 1.35L5.41 20z\"/>\n",
              "  </svg>\n",
              "      </button>\n",
              "      \n",
              "  <style>\n",
              "    .colab-df-container {\n",
              "      display:flex;\n",
              "      flex-wrap:wrap;\n",
              "      gap: 12px;\n",
              "    }\n",
              "\n",
              "    .colab-df-convert {\n",
              "      background-color: #E8F0FE;\n",
              "      border: none;\n",
              "      border-radius: 50%;\n",
              "      cursor: pointer;\n",
              "      display: none;\n",
              "      fill: #1967D2;\n",
              "      height: 32px;\n",
              "      padding: 0 0 0 0;\n",
              "      width: 32px;\n",
              "    }\n",
              "\n",
              "    .colab-df-convert:hover {\n",
              "      background-color: #E2EBFA;\n",
              "      box-shadow: 0px 1px 2px rgba(60, 64, 67, 0.3), 0px 1px 3px 1px rgba(60, 64, 67, 0.15);\n",
              "      fill: #174EA6;\n",
              "    }\n",
              "\n",
              "    [theme=dark] .colab-df-convert {\n",
              "      background-color: #3B4455;\n",
              "      fill: #D2E3FC;\n",
              "    }\n",
              "\n",
              "    [theme=dark] .colab-df-convert:hover {\n",
              "      background-color: #434B5C;\n",
              "      box-shadow: 0px 1px 3px 1px rgba(0, 0, 0, 0.15);\n",
              "      filter: drop-shadow(0px 1px 2px rgba(0, 0, 0, 0.3));\n",
              "      fill: #FFFFFF;\n",
              "    }\n",
              "  </style>\n",
              "\n",
              "      <script>\n",
              "        const buttonEl =\n",
              "          document.querySelector('#df-690d9b5c-b175-415f-8631-b6c2b6a7a17c button.colab-df-convert');\n",
              "        buttonEl.style.display =\n",
              "          google.colab.kernel.accessAllowed ? 'block' : 'none';\n",
              "\n",
              "        async function convertToInteractive(key) {\n",
              "          const element = document.querySelector('#df-690d9b5c-b175-415f-8631-b6c2b6a7a17c');\n",
              "          const dataTable =\n",
              "            await google.colab.kernel.invokeFunction('convertToInteractive',\n",
              "                                                     [key], {});\n",
              "          if (!dataTable) return;\n",
              "\n",
              "          const docLinkHtml = 'Like what you see? Visit the ' +\n",
              "            '<a target=\"_blank\" href=https://colab.research.google.com/notebooks/data_table.ipynb>data table notebook</a>'\n",
              "            + ' to learn more about interactive tables.';\n",
              "          element.innerHTML = '';\n",
              "          dataTable['output_type'] = 'display_data';\n",
              "          await google.colab.output.renderOutput(dataTable, element);\n",
              "          const docLink = document.createElement('div');\n",
              "          docLink.innerHTML = docLinkHtml;\n",
              "          element.appendChild(docLink);\n",
              "        }\n",
              "      </script>\n",
              "    </div>\n",
              "  </div>\n",
              "  "
            ]
          },
          "metadata": {},
          "execution_count": 19
        }
      ]
    }
  ]
}