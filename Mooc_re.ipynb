{
  "nbformat": 4,
  "nbformat_minor": 0,
  "metadata": {
    "colab": {
      "provenance": [],
      "authorship_tag": "ABX9TyMIQ/6cK/8BZlN30hnhc7f4",
      "include_colab_link": true
    },
    "kernelspec": {
      "name": "python3",
      "display_name": "Python 3"
    },
    "language_info": {
      "name": "python"
    }
  },
  "cells": [
    {
      "cell_type": "markdown",
      "metadata": {
        "id": "view-in-github",
        "colab_type": "text"
      },
      "source": [
        "<a href=\"https://colab.research.google.com/github/JosephHauser912/Advanced-Data/blob/main/Mooc_re.ipynb\" target=\"_parent\"><img src=\"https://colab.research.google.com/assets/colab-badge.svg\" alt=\"Open In Colab\"/></a>"
      ]
    },
    {
      "cell_type": "markdown",
      "source": [
        "# import re"
      ],
      "metadata": {
        "id": "51V9EpWxj6fX"
      }
    },
    {
      "cell_type": "code",
      "source": [
        "import re"
      ],
      "metadata": {
        "id": "xYpNbJOOmIi0"
      },
      "execution_count": 31,
      "outputs": []
    },
    {
      "cell_type": "code",
      "source": [
        "s = \"Doing things, going home, staying awake, sleeping later\""
      ],
      "metadata": {
        "id": "F3_kXDcxkBGd"
      },
      "execution_count": 32,
      "outputs": []
    },
    {
      "cell_type": "code",
      "source": [
        "s.split(\" \")"
      ],
      "metadata": {
        "colab": {
          "base_uri": "https://localhost:8080/"
        },
        "id": "zKlZhfdVkFyz",
        "outputId": "28985f93-c6b5-4851-c218-f7ca4e2d605e"
      },
      "execution_count": 33,
      "outputs": [
        {
          "output_type": "execute_result",
          "data": {
            "text/plain": [
              "['Doing',\n",
              " 'things,',\n",
              " 'going',\n",
              " 'home,',\n",
              " 'staying',\n",
              " 'awake,',\n",
              " 'sleeping',\n",
              " 'later']"
            ]
          },
          "metadata": {},
          "execution_count": 33
        }
      ]
    },
    {
      "cell_type": "code",
      "source": [
        "for item in s.split(\" \"):\n",
        "  s2 = []\n",
        "  s2.append(item)\n"
      ],
      "metadata": {
        "id": "KBhS1ZUxkB2B"
      },
      "execution_count": 34,
      "outputs": []
    },
    {
      "cell_type": "code",
      "source": [
        "s2"
      ],
      "metadata": {
        "colab": {
          "base_uri": "https://localhost:8080/"
        },
        "id": "nXnOsFwrlvkI",
        "outputId": "bf3a249b-cd43-427b-ded9-ac33d1acc252"
      },
      "execution_count": 35,
      "outputs": [
        {
          "output_type": "execute_result",
          "data": {
            "text/plain": [
              "['later']"
            ]
          },
          "metadata": {},
          "execution_count": 35
        }
      ]
    },
    {
      "cell_type": "code",
      "source": [
        "re.findall(r'\\w+ing\\b', s)"
      ],
      "metadata": {
        "colab": {
          "base_uri": "https://localhost:8080/"
        },
        "id": "gXLP7w0mlgdT",
        "outputId": "42627cf9-5a88-4682-d8a2-d710eb26c731"
      },
      "execution_count": 45,
      "outputs": [
        {
          "output_type": "execute_result",
          "data": {
            "text/plain": [
              "['Doing', 'going', 'staying', 'sleeping']"
            ]
          },
          "metadata": {},
          "execution_count": 45
        }
      ]
    },
    {
      "cell_type": "code",
      "source": [
        "s2 = (\"If I'm not in a hurry, then I should stay. \" + \n",
        "      \"On the other hand, if I leave, then I can sleep. \"+\n",
        "      \"But also, if I'm stuck, then I hate it.\")"
      ],
      "metadata": {
        "id": "k85JUtDylC9A"
      },
      "execution_count": 50,
      "outputs": []
    },
    {
      "cell_type": "code",
      "source": [
        "re.findall(r\"[Ii]f ([^.]*), then\", s2)"
      ],
      "metadata": {
        "colab": {
          "base_uri": "https://localhost:8080/"
        },
        "id": "21_-92qpnNNc",
        "outputId": "f378167d-5bdd-4994-a5ad-6923a9b5ff7c"
      },
      "execution_count": 51,
      "outputs": [
        {
          "output_type": "execute_result",
          "data": {
            "text/plain": [
              "[\"I'm not in a hurry\", 'I leave', \"I'm stuck\"]"
            ]
          },
          "metadata": {},
          "execution_count": 51
        }
      ]
    }
  ]
}