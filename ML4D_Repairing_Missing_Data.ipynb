{
  "nbformat": 4,
  "nbformat_minor": 0,
  "metadata": {
    "colab": {
      "provenance": [],
      "authorship_tag": "ABX9TyPa57F4K0M8S8fbEdXQKfAV",
      "include_colab_link": true
    },
    "kernelspec": {
      "name": "python3",
      "display_name": "Python 3"
    },
    "language_info": {
      "name": "python"
    }
  },
  "cells": [
    {
      "cell_type": "markdown",
      "metadata": {
        "id": "view-in-github",
        "colab_type": "text"
      },
      "source": [
        "<a href=\"https://colab.research.google.com/github/JosephHauser912/Advanced-Data/blob/main/ML4D_Repairing_Missing_Data.ipynb\" target=\"_parent\"><img src=\"https://colab.research.google.com/assets/colab-badge.svg\" alt=\"Open In Colab\"/></a>"
      ]
    },
    {
      "cell_type": "code",
      "execution_count": 1,
      "metadata": {
        "id": "FdSfBfmrg7kl"
      },
      "outputs": [],
      "source": [
        "import pandas as pd\n",
        "import numpy as np"
      ]
    },
    {
      "cell_type": "code",
      "source": [
        "data = pd. DataFrame([[1,2,np.nan], [np.nan,2,np.nan],[3,np.nan,np.nan],[np.nan,3,8], [5,3,np.nan]], columns=['A', 'B', 'C'])"
      ],
      "metadata": {
        "id": "hXN93GSlhU9-"
      },
      "execution_count": 3,
      "outputs": []
    },
    {
      "cell_type": "code",
      "source": [
        "print(data, '\\n')"
      ],
      "metadata": {
        "colab": {
          "base_uri": "https://localhost:8080/"
        },
        "id": "ujQhj_OthtYl",
        "outputId": "60c1d593-e7a6-40a8-a933-92a1a3466bad"
      },
      "execution_count": 4,
      "outputs": [
        {
          "output_type": "stream",
          "name": "stdout",
          "text": [
            "     A    B    C\n",
            "0  1.0  2.0  NaN\n",
            "1  NaN  2.0  NaN\n",
            "2  3.0  NaN  NaN\n",
            "3  NaN  3.0  8.0\n",
            "4  5.0  3.0  NaN \n",
            "\n"
          ]
        }
      ]
    },
    {
      "cell_type": "code",
      "source": [
        "print(data.isnull().sum(axis=0))"
      ],
      "metadata": {
        "colab": {
          "base_uri": "https://localhost:8080/"
        },
        "id": "0N9hUdVlh1Z7",
        "outputId": "52659608-a1c9-4fc5-dff3-b93faac1c5fc"
      },
      "execution_count": 5,
      "outputs": [
        {
          "output_type": "stream",
          "name": "stdout",
          "text": [
            "A    2\n",
            "B    1\n",
            "C    4\n",
            "dtype: int64\n"
          ]
        }
      ]
    },
    {
      "cell_type": "code",
      "source": [
        "data.drop(\"C\", axis=1, inplace=True)\n",
        "#drops definitely C from the dataset"
      ],
      "metadata": {
        "id": "QyWthTDdiV4K"
      },
      "execution_count": 6,
      "outputs": []
    },
    {
      "cell_type": "code",
      "source": [
        "data['missing_B'] = data['B'].isnull().astype(int)\n",
        "#creates a placeholder for B's missing values"
      ],
      "metadata": {
        "id": "pKS3V61aiaSv"
      },
      "execution_count": 7,
      "outputs": []
    },
    {
      "cell_type": "code",
      "source": [
        "data[\"B\"].fillna(data['B'].mean(), inplace=True)\n",
        "#fills missing items in B using B's average"
      ],
      "metadata": {
        "id": "X3J3nzMjiv7i"
      },
      "execution_count": 9,
      "outputs": []
    },
    {
      "cell_type": "code",
      "source": [
        "data['A'].interpolate(method='linear', inplace=True)\n",
        "#interpolates A"
      ],
      "metadata": {
        "id": "u-s1WkIOjArL"
      },
      "execution_count": 11,
      "outputs": []
    },
    {
      "cell_type": "code",
      "source": [
        "print(data)"
      ],
      "metadata": {
        "colab": {
          "base_uri": "https://localhost:8080/"
        },
        "id": "VAytTW1jjH-Z",
        "outputId": "6376f301-83bc-4ce4-96cc-36b1228002e7"
      },
      "execution_count": 12,
      "outputs": [
        {
          "output_type": "stream",
          "name": "stdout",
          "text": [
            "     A    B  missing_B\n",
            "0  1.0  2.0          0\n",
            "1  2.0  2.0          0\n",
            "2  3.0  2.5          1\n",
            "3  4.0  3.0          0\n",
            "4  5.0  3.0          0\n"
          ]
        }
      ]
    }
  ]
}