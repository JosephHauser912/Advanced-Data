{
  "nbformat": 4,
  "nbformat_minor": 0,
  "metadata": {
    "colab": {
      "provenance": [],
      "authorship_tag": "ABX9TyP5iYqwIb7vYGGMsgvdESEW",
      "include_colab_link": true
    },
    "kernelspec": {
      "name": "python3",
      "display_name": "Python 3"
    },
    "language_info": {
      "name": "python"
    }
  },
  "cells": [
    {
      "cell_type": "markdown",
      "metadata": {
        "id": "view-in-github",
        "colab_type": "text"
      },
      "source": [
        "<a href=\"https://colab.research.google.com/github/JosephHauser912/Advanced-Data/blob/main/G4G_JSON_open_and_read.ipynb\" target=\"_parent\"><img src=\"https://colab.research.google.com/assets/colab-badge.svg\" alt=\"Open In Colab\"/></a>"
      ]
    },
    {
      "cell_type": "code",
      "execution_count": 1,
      "metadata": {
        "id": "b5kNUnrErHag"
      },
      "outputs": [],
      "source": [
        "import json\n",
        "\n"
      ]
    },
    {
      "cell_type": "code",
      "source": [
        "dict = {\n",
        "    \"name\": \"sathiyajith\",\n",
        "    \"rollno\": 56,\n",
        "    \"cgpa\":8.6,\n",
        "    \"phonenumber\": \"9976770500\"\n",
        "}\n",
        "\n",
        "json_object = json.dumps(dict, indent=4)\n",
        "print(json_object)"
      ],
      "metadata": {
        "colab": {
          "base_uri": "https://localhost:8080/"
        },
        "id": "KgddyFyFur2W",
        "outputId": "ff81e1d4-0982-40ca-8f77-4a37ca2d2b00"
      },
      "execution_count": 2,
      "outputs": [
        {
          "output_type": "stream",
          "name": "stdout",
          "text": [
            "{\n",
            "    \"name\": \"sathiyajith\",\n",
            "    \"rollno\": 56,\n",
            "    \"cgpa\": 8.6,\n",
            "    \"phonenumber\": \"9976770500\"\n",
            "}\n"
          ]
        }
      ]
    },
    {
      "cell_type": "code",
      "source": [
        "with open('sample.json', 'w') as outFile:\n",
        "  outFile.write(json_object)"
      ],
      "metadata": {
        "id": "CqrkgCq2uxq0"
      },
      "execution_count": 3,
      "outputs": []
    },
    {
      "cell_type": "code",
      "source": [
        "with open('sample.json', 'r') as openFile:\n",
        "  json_object = json.load(openFile)\n",
        "\n",
        "print(json_object)\n",
        "print(type(json_object))"
      ],
      "metadata": {
        "colab": {
          "base_uri": "https://localhost:8080/"
        },
        "id": "ZhF0Jnb3u-ns",
        "outputId": "116afe73-312e-4d97-b68d-002e4b45e371"
      },
      "execution_count": 4,
      "outputs": [
        {
          "output_type": "stream",
          "name": "stdout",
          "text": [
            "{'name': 'sathiyajith', 'rollno': 56, 'cgpa': 8.6, 'phonenumber': '9976770500'}\n",
            "<class 'dict'>\n"
          ]
        }
      ]
    }
  ]
}