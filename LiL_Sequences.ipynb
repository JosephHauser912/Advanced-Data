{
  "nbformat": 4,
  "nbformat_minor": 0,
  "metadata": {
    "colab": {
      "provenance": [],
      "authorship_tag": "ABX9TyNFp7XxvVULDWynK+I+f3vC"
    },
    "kernelspec": {
      "name": "python3",
      "display_name": "Python 3"
    },
    "language_info": {
      "name": "python"
    }
  },
  "cells": [
    {
      "cell_type": "code",
      "execution_count": 1,
      "metadata": {
        "id": "iJMjGrV-G8JT"
      },
      "outputs": [],
      "source": [
        "import math\n",
        "import collections\n",
        "\n",
        "import numpy as np\n",
        "import pandas as pd\n",
        "import matplotlib.pyplot as pp\n",
        "\n",
        "%matplotlib inline"
      ]
    },
    {
      "cell_type": "code",
      "source": [
        "nephews = [\"Huey\", \"Dewey\", \"Louie\"]"
      ],
      "metadata": {
        "id": "lSA1FfVmHFOC"
      },
      "execution_count": 5,
      "outputs": []
    },
    {
      "cell_type": "code",
      "source": [
        "nephews"
      ],
      "metadata": {
        "colab": {
          "base_uri": "https://localhost:8080/"
        },
        "id": "dSoR23GfHJzI",
        "outputId": "3abc7716-5caa-470e-80c6-c81cf3c04d5b"
      },
      "execution_count": 6,
      "outputs": [
        {
          "output_type": "execute_result",
          "data": {
            "text/plain": [
              "['Huey', 'Dewey', 'Louie']"
            ]
          },
          "metadata": {},
          "execution_count": 6
        }
      ]
    },
    {
      "cell_type": "code",
      "source": [
        "nephews[-1]"
      ],
      "metadata": {
        "colab": {
          "base_uri": "https://localhost:8080/",
          "height": 35
        },
        "id": "lKHGjjHjHOX_",
        "outputId": "73125755-54df-4596-f85a-2b0fe12c12df"
      },
      "execution_count": 9,
      "outputs": [
        {
          "output_type": "execute_result",
          "data": {
            "text/plain": [
              "'Louie'"
            ],
            "application/vnd.google.colaboratory.intrinsic+json": {
              "type": "string"
            }
          },
          "metadata": {},
          "execution_count": 9
        }
      ]
    },
    {
      "cell_type": "code",
      "source": [
        "mix_it_up = [1, [2,3], 'alpha']\n",
        "mix_it_up"
      ],
      "metadata": {
        "colab": {
          "base_uri": "https://localhost:8080/"
        },
        "id": "C1VP5ZNAHcJW",
        "outputId": "fd973782-223a-4552-a6b6-4faf9ffa7d72"
      },
      "execution_count": 12,
      "outputs": [
        {
          "output_type": "execute_result",
          "data": {
            "text/plain": [
              "[1, [2, 3], 'alpha']"
            ]
          },
          "metadata": {},
          "execution_count": 12
        }
      ]
    },
    {
      "cell_type": "code",
      "source": [
        "nephews.append(\"April\")"
      ],
      "metadata": {
        "id": "nDe5l5juHkoV"
      },
      "execution_count": 16,
      "outputs": []
    },
    {
      "cell_type": "code",
      "source": [
        "nephews"
      ],
      "metadata": {
        "colab": {
          "base_uri": "https://localhost:8080/"
        },
        "id": "GfWqsulVHous",
        "outputId": "7c54fd2e-907c-47d8-c93b-c13e0a0d77ed"
      },
      "execution_count": 17,
      "outputs": [
        {
          "output_type": "execute_result",
          "data": {
            "text/plain": [
              "['Huey', 'Dewey', 'Louie', 'April', 'April', 'April']"
            ]
          },
          "metadata": {},
          "execution_count": 17
        }
      ]
    },
    {
      "cell_type": "code",
      "source": [
        "nephews.extend([\"May\", 'June'])\n",
        "nephews"
      ],
      "metadata": {
        "colab": {
          "base_uri": "https://localhost:8080/"
        },
        "id": "wMzpZ1afHt01",
        "outputId": "1b7be42b-26eb-418e-b4f9-aac4c8c487c5"
      },
      "execution_count": 22,
      "outputs": [
        {
          "output_type": "execute_result",
          "data": {
            "text/plain": [
              "['Huey Duck Duck Duck',\n",
              " 'Dewey Duck Duck Duck',\n",
              " 'Louie Duck Duck Duck',\n",
              " 'April Duck Duck Duck',\n",
              " 'April Duck Duck Duck',\n",
              " 'April Duck Duck Duck',\n",
              " 'May Duck Duck Duck',\n",
              " 'June Duck Duck Duck',\n",
              " 'May',\n",
              " 'June']"
            ]
          },
          "metadata": {},
          "execution_count": 22
        }
      ]
    },
    {
      "cell_type": "code",
      "source": [
        "nephews = ['Huey', 'Dewey', 'Louie', 'April', 'May', 'June']"
      ],
      "metadata": {
        "id": "JncXKeBoI6h2"
      },
      "execution_count": 27,
      "outputs": []
    },
    {
      "cell_type": "code",
      "source": [
        "for i in range(len(nephews)):\n",
        "  nephews[i] = nephews[i] + ' Duck'\n",
        "nephews"
      ],
      "metadata": {
        "colab": {
          "base_uri": "https://localhost:8080/"
        },
        "id": "8tgnod_IH6uj",
        "outputId": "fcbd6a78-a568-4c6f-f103-6dfb0103d315"
      },
      "execution_count": 28,
      "outputs": [
        {
          "output_type": "execute_result",
          "data": {
            "text/plain": [
              "['Huey Duck',\n",
              " 'Dewey Duck',\n",
              " 'Louie Duck',\n",
              " 'April Duck',\n",
              " 'May Duck',\n",
              " 'June Duck']"
            ]
          },
          "metadata": {},
          "execution_count": 28
        }
      ]
    },
    {
      "cell_type": "code",
      "source": [
        "ducks = nephews + ['Donald Duck', 'Daisy Duck']\n",
        "ducks"
      ],
      "metadata": {
        "colab": {
          "base_uri": "https://localhost:8080/"
        },
        "id": "PR23cLNnJE1s",
        "outputId": "b1b3e93a-28fe-4ea5-a24f-689c4dddfaab"
      },
      "execution_count": 29,
      "outputs": [
        {
          "output_type": "execute_result",
          "data": {
            "text/plain": [
              "['Huey Duck',\n",
              " 'Dewey Duck',\n",
              " 'Louie Duck',\n",
              " 'April Duck',\n",
              " 'May Duck',\n",
              " 'June Duck',\n",
              " 'Donald Duck',\n",
              " 'Daisy Duck']"
            ]
          },
          "metadata": {},
          "execution_count": 29
        }
      ]
    },
    {
      "cell_type": "code",
      "source": [
        "ducks.insert(-0, 'Scrooge McDuck')\n",
        "ducks"
      ],
      "metadata": {
        "colab": {
          "base_uri": "https://localhost:8080/"
        },
        "id": "etaUijw0JJ90",
        "outputId": "0e713a62-21d0-4ae5-bcde-398acfce472e"
      },
      "execution_count": 31,
      "outputs": [
        {
          "output_type": "execute_result",
          "data": {
            "text/plain": [
              "['Scrooge McDuck',\n",
              " 'Huey Duck',\n",
              " 'Dewey Duck',\n",
              " 'Louie Duck',\n",
              " 'April Duck',\n",
              " 'May Duck',\n",
              " 'June Duck',\n",
              " 'Donald Duck',\n",
              " 'Scrooge McDuck',\n",
              " 'Daisy Duck']"
            ]
          },
          "metadata": {},
          "execution_count": 31
        }
      ]
    },
    {
      "cell_type": "code",
      "source": [
        "del ducks[-1]\n",
        "ducks"
      ],
      "metadata": {
        "colab": {
          "base_uri": "https://localhost:8080/"
        },
        "id": "xSLDPNo-Jc0y",
        "outputId": "cd8bdf1e-fb0f-463f-c897-48529638e070"
      },
      "execution_count": 32,
      "outputs": [
        {
          "output_type": "execute_result",
          "data": {
            "text/plain": [
              "['Scrooge McDuck',\n",
              " 'Huey Duck',\n",
              " 'Dewey Duck',\n",
              " 'Louie Duck',\n",
              " 'April Duck',\n",
              " 'May Duck',\n",
              " 'June Duck',\n",
              " 'Donald Duck',\n",
              " 'Scrooge McDuck']"
            ]
          },
          "metadata": {},
          "execution_count": 32
        }
      ]
    },
    {
      "cell_type": "code",
      "source": [
        "ducks.remove(ducks[0])\n",
        "ducks"
      ],
      "metadata": {
        "colab": {
          "base_uri": "https://localhost:8080/"
        },
        "id": "066hamCzJl0L",
        "outputId": "a2a472da-03c7-495a-af00-6194ceb3273b"
      },
      "execution_count": 36,
      "outputs": [
        {
          "output_type": "execute_result",
          "data": {
            "text/plain": [
              "['Huey Duck',\n",
              " 'Dewey Duck',\n",
              " 'Louie Duck',\n",
              " 'April Duck',\n",
              " 'May Duck',\n",
              " 'June Duck',\n",
              " 'Scrooge McDuck']"
            ]
          },
          "metadata": {},
          "execution_count": 36
        }
      ]
    },
    {
      "cell_type": "code",
      "source": [
        "reverse_ducks = sorted(ducks, reverse=False)\n",
        "reverse_ducks"
      ],
      "metadata": {
        "colab": {
          "base_uri": "https://localhost:8080/"
        },
        "id": "GgySLd6NJqIj",
        "outputId": "8c791a74-16e0-46a3-c2f9-872b4c74c261"
      },
      "execution_count": 38,
      "outputs": [
        {
          "output_type": "execute_result",
          "data": {
            "text/plain": [
              "['April Duck',\n",
              " 'Dewey Duck',\n",
              " 'Huey Duck',\n",
              " 'June Duck',\n",
              " 'Louie Duck',\n",
              " 'May Duck',\n",
              " 'Scrooge McDuck']"
            ]
          },
          "metadata": {},
          "execution_count": 38
        }
      ]
    },
    {
      "cell_type": "code",
      "source": [
        "squares = [1,4,9,16,25,36,49,]"
      ],
      "metadata": {
        "id": "9BHTJ5i8KPgv"
      },
      "execution_count": 39,
      "outputs": []
    },
    {
      "cell_type": "code",
      "source": [
        "squares[0:2]"
      ],
      "metadata": {
        "colab": {
          "base_uri": "https://localhost:8080/"
        },
        "id": "w1WXzLSNKVgv",
        "outputId": "71cabe7b-e3d5-46f8-82ec-51d60c5822ec"
      },
      "execution_count": 40,
      "outputs": [
        {
          "output_type": "execute_result",
          "data": {
            "text/plain": [
              "[1, 4]"
            ]
          },
          "metadata": {},
          "execution_count": 40
        }
      ]
    },
    {
      "cell_type": "code",
      "source": [
        "integers = ('one', 'two', 'three', 'four')"
      ],
      "metadata": {
        "id": "V_oeqPV_Umky"
      },
      "execution_count": 41,
      "outputs": []
    },
    {
      "cell_type": "code",
      "source": [
        "integers"
      ],
      "metadata": {
        "colab": {
          "base_uri": "https://localhost:8080/"
        },
        "id": "8_PRK2zwUt7A",
        "outputId": "1a33342c-ea90-46be-af02-14f1846d3c63"
      },
      "execution_count": 42,
      "outputs": [
        {
          "output_type": "execute_result",
          "data": {
            "text/plain": [
              "('one', 'two', 'three', 'four')"
            ]
          },
          "metadata": {},
          "execution_count": 42
        }
      ]
    },
    {
      "cell_type": "code",
      "source": [
        "integers[-1], integers[1:3]"
      ],
      "metadata": {
        "colab": {
          "base_uri": "https://localhost:8080/"
        },
        "id": "kM4rSqceUvXZ",
        "outputId": "4946ed12-532f-44b4-c57b-935b2d1c9ac5"
      },
      "execution_count": 43,
      "outputs": [
        {
          "output_type": "execute_result",
          "data": {
            "text/plain": [
              "('four', ('two', 'three'))"
            ]
          },
          "metadata": {},
          "execution_count": 43
        }
      ]
    },
    {
      "cell_type": "code",
      "source": [
        "integers.append('four')"
      ],
      "metadata": {
        "colab": {
          "base_uri": "https://localhost:8080/",
          "height": 165
        },
        "id": "ru_kWglMU2Cg",
        "outputId": "fa27889b-36b2-4057-8c25-35e842964c99"
      },
      "execution_count": 45,
      "outputs": [
        {
          "output_type": "error",
          "ename": "AttributeError",
          "evalue": "ignored",
          "traceback": [
            "\u001b[0;31m---------------------------------------------------------------------------\u001b[0m",
            "\u001b[0;31mAttributeError\u001b[0m                            Traceback (most recent call last)",
            "\u001b[0;32m<ipython-input-45-b20e42a5eb0e>\u001b[0m in \u001b[0;36m<cell line: 1>\u001b[0;34m()\u001b[0m\n\u001b[0;32m----> 1\u001b[0;31m \u001b[0mintegers\u001b[0m\u001b[0;34m.\u001b[0m\u001b[0mappend\u001b[0m\u001b[0;34m(\u001b[0m\u001b[0;34m'four'\u001b[0m\u001b[0;34m)\u001b[0m\u001b[0;34m\u001b[0m\u001b[0;34m\u001b[0m\u001b[0m\n\u001b[0m",
            "\u001b[0;31mAttributeError\u001b[0m: 'tuple' object has no attribute 'append'"
          ]
        }
      ]
    },
    {
      "cell_type": "code",
      "source": [
        "for i in range(len(ducks)):\n",
        "  print(i, duck[i])"
      ],
      "metadata": {
        "colab": {
          "base_uri": "https://localhost:8080/"
        },
        "id": "zKcld4WNWb0m",
        "outputId": "f8bb43c0-cd29-4278-c06b-50b887dec58f"
      },
      "execution_count": 51,
      "outputs": [
        {
          "output_type": "stream",
          "name": "stdout",
          "text": [
            "0 S\n",
            "1 c\n",
            "2 r\n",
            "3 o\n",
            "4 o\n",
            "5 g\n",
            "6 e\n"
          ]
        }
      ]
    },
    {
      "cell_type": "code",
      "source": [
        "ducks"
      ],
      "metadata": {
        "colab": {
          "base_uri": "https://localhost:8080/"
        },
        "id": "06gYrKjLbX6g",
        "outputId": "220b806f-d38c-4b27-93bd-fe83342ae1df"
      },
      "execution_count": 52,
      "outputs": [
        {
          "output_type": "execute_result",
          "data": {
            "text/plain": [
              "['Huey Duck',\n",
              " 'Dewey Duck',\n",
              " 'Louie Duck',\n",
              " 'April Duck',\n",
              " 'May Duck',\n",
              " 'June Duck',\n",
              " 'Scrooge McDuck']"
            ]
          },
          "metadata": {},
          "execution_count": 52
        }
      ]
    },
    {
      "cell_type": "code",
      "source": [
        "def three_args(a,b,c):\n",
        "  print(a,b,c)"
      ],
      "metadata": {
        "id": "uh3z9BkgbrRz"
      },
      "execution_count": 53,
      "outputs": []
    },
    {
      "cell_type": "code",
      "source": [
        "my_args = (1,2,3)"
      ],
      "metadata": {
        "id": "po_2QylFbuvr"
      },
      "execution_count": 54,
      "outputs": []
    },
    {
      "cell_type": "code",
      "source": [
        "three_args(*my_args)"
      ],
      "metadata": {
        "colab": {
          "base_uri": "https://localhost:8080/"
        },
        "id": "ElwBtmysbw5j",
        "outputId": "6860e07a-6cf5-4ff1-e0fc-46966fe20ca1"
      },
      "execution_count": 56,
      "outputs": [
        {
          "output_type": "stream",
          "name": "stdout",
          "text": [
            "1 2 3\n"
          ]
        }
      ]
    }
  ]
}