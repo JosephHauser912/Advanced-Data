{
  "nbformat": 4,
  "nbformat_minor": 0,
  "metadata": {
    "colab": {
      "provenance": [],
      "authorship_tag": "ABX9TyPDV4T123bZNese3XkP8Ywo",
      "include_colab_link": true
    },
    "kernelspec": {
      "name": "python3",
      "display_name": "Python 3"
    },
    "language_info": {
      "name": "python"
    }
  },
  "cells": [
    {
      "cell_type": "markdown",
      "metadata": {
        "id": "view-in-github",
        "colab_type": "text"
      },
      "source": [
        "<a href=\"https://colab.research.google.com/github/JosephHauser912/Advanced-Data/blob/main/P4DS_NLP_Spacy.ipynb\" target=\"_parent\"><img src=\"https://colab.research.google.com/assets/colab-badge.svg\" alt=\"Open In Colab\"/></a>"
      ]
    },
    {
      "cell_type": "code",
      "execution_count": 1,
      "metadata": {
        "id": "18U0Zx7aPDF9"
      },
      "outputs": [],
      "source": [
        "import spacy\n"
      ]
    },
    {
      "cell_type": "code",
      "source": [
        "txt = 'List is a ubiquitous data structure in the Python programming language.'"
      ],
      "metadata": {
        "id": "Q_dNlJ-2PQUe"
      },
      "execution_count": 2,
      "outputs": []
    },
    {
      "cell_type": "code",
      "source": [
        "nlp = spacy.load('en_core_web_sm')"
      ],
      "metadata": {
        "id": "nBpNgfRPPV1d"
      },
      "execution_count": 3,
      "outputs": []
    },
    {
      "cell_type": "code",
      "source": [
        "doc = nlp(txt)\n",
        "stk = []"
      ],
      "metadata": {
        "id": "3M4Fo6bCPZNN"
      },
      "execution_count": 4,
      "outputs": []
    },
    {
      "cell_type": "code",
      "source": [
        "for w in doc:\n",
        "  if w.pos_ == 'NOUN' or w.pos_ == 'PROPN':\n",
        "    stk.append(w.text)\n",
        "  elif (w.head.pos_ == 'NOUN' or w.head.pos_== 'PROPN') and (w in w.head.lefts): stk.append(w.text)\n",
        "  elif stk:\n",
        "    chunk = ''\n",
        "    while stk:\n",
        "      chunk = stk.pop() + ' ' + chunk\n",
        "    print(chunk.strip())"
      ],
      "metadata": {
        "colab": {
          "base_uri": "https://localhost:8080/"
        },
        "id": "tJfqu9SNPafd",
        "outputId": "8ef60083-c830-4ff5-d14d-89866d85bd22"
      },
      "execution_count": 5,
      "outputs": [
        {
          "output_type": "stream",
          "name": "stdout",
          "text": [
            "List\n",
            "a ubiquitous data structure\n",
            "the Python programming language\n"
          ]
        }
      ]
    },
    {
      "cell_type": "code",
      "source": [
        "\n",
        "doc=nlp(txt)\n",
        "for t in doc:\n",
        "  print(t.text, t.head.text)"
      ],
      "metadata": {
        "colab": {
          "base_uri": "https://localhost:8080/"
        },
        "id": "6dQinRj4W1ga",
        "outputId": "bfa2b171-b392-4774-e164-f95695c10af6"
      },
      "execution_count": 7,
      "outputs": [
        {
          "output_type": "stream",
          "name": "stdout",
          "text": [
            "List is\n",
            "is is\n",
            "a structure\n",
            "ubiquitous structure\n",
            "data structure\n",
            "structure is\n",
            "in structure\n",
            "the language\n",
            "Python language\n",
            "programming language\n",
            "language in\n",
            ". is\n"
          ]
        }
      ]
    },
    {
      "cell_type": "code",
      "source": [
        "head_lefts = [t.text if t in t.head.lefts else 0 for t in doc]\n",
        "print(head_lefts)"
      ],
      "metadata": {
        "colab": {
          "base_uri": "https://localhost:8080/"
        },
        "id": "ksacfLeuXY4u",
        "outputId": "94cc7ba1-337a-46ee-de89-779d2d543cee"
      },
      "execution_count": 8,
      "outputs": [
        {
          "output_type": "stream",
          "name": "stdout",
          "text": [
            "['List', 0, 'a', 'ubiquitous', 'data', 0, 0, 'the', 'Python', 'programming', 0, 0]\n"
          ]
        }
      ]
    },
    {
      "cell_type": "code",
      "source": [
        "for w in doc:\n",
        "  head_lefts = [t.text if t in t.head.lefts else 0 for t in doc[w.i:]]\n",
        "  print(head_lefts)"
      ],
      "metadata": {
        "colab": {
          "base_uri": "https://localhost:8080/"
        },
        "id": "2zkh6Xk-YGuj",
        "outputId": "9f7178c7-7b42-41f1-e744-208d769f0eaf"
      },
      "execution_count": 10,
      "outputs": [
        {
          "output_type": "stream",
          "name": "stdout",
          "text": [
            "['List', 0, 'a', 'ubiquitous', 'data', 0, 0, 'the', 'Python', 'programming', 0, 0]\n",
            "[0, 'a', 'ubiquitous', 'data', 0, 0, 'the', 'Python', 'programming', 0, 0]\n",
            "['a', 'ubiquitous', 'data', 0, 0, 'the', 'Python', 'programming', 0, 0]\n",
            "['ubiquitous', 'data', 0, 0, 'the', 'Python', 'programming', 0, 0]\n",
            "['data', 0, 0, 'the', 'Python', 'programming', 0, 0]\n",
            "[0, 0, 'the', 'Python', 'programming', 0, 0]\n",
            "[0, 'the', 'Python', 'programming', 0, 0]\n",
            "['the', 'Python', 'programming', 0, 0]\n",
            "['Python', 'programming', 0, 0]\n",
            "['programming', 0, 0]\n",
            "[0, 0]\n",
            "[0]\n"
          ]
        }
      ]
    },
    {
      "cell_type": "code",
      "source": [
        "for w in doc:\n",
        "  head_lefts = [t.text if t in t.head.lefts else 0 for t in doc[w.i:]]\n",
        "  i0 = head_lefts.index(o)\n",
        "  if i)"
      ],
      "metadata": {
        "id": "zpq4k0YmYk9w"
      },
      "execution_count": null,
      "outputs": []
    }
  ]
}