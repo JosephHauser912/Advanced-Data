{
  "nbformat": 4,
  "nbformat_minor": 0,
  "metadata": {
    "colab": {
      "provenance": [],
      "authorship_tag": "ABX9TyO1c3JpqZWHSqRSMbMsPYnO",
      "include_colab_link": true
    },
    "kernelspec": {
      "name": "python3",
      "display_name": "Python 3"
    },
    "language_info": {
      "name": "python"
    }
  },
  "cells": [
    {
      "cell_type": "markdown",
      "metadata": {
        "id": "view-in-github",
        "colab_type": "text"
      },
      "source": [
        "<a href=\"https://colab.research.google.com/github/JosephHauser912/Advanced-Data/blob/main/SintoDS.ipynb\" target=\"_parent\"><img src=\"https://colab.research.google.com/assets/colab-badge.svg\" alt=\"Open In Colab\"/></a>"
      ]
    },
    {
      "cell_type": "code",
      "execution_count": 2,
      "metadata": {
        "id": "7LotJlADgLNs"
      },
      "outputs": [],
      "source": [
        "class HashTable:\n",
        "    def __init__(self):\n",
        "        self.size = 256\n",
        "        self.buckets = [None for i in range(self.size)]\n",
        "    \n",
        "    def _hash(self, s):\n",
        "        mult = 1\n",
        "        hash_val = 0\n",
        "        for ch in s:\n",
        "            hash_val += mult * ord(ch)\n",
        "            mult +=1 \n",
        "        return hash_val %self.size\n",
        "        \n",
        "    def put(self, key, value):\n",
        "        h = self._hash(key)\n",
        "        self.buckets[h] = (key, value)\n",
        "        \n",
        "    def get(self, key):\n",
        "        h = self._hash(key)\n",
        "        return self.buckets[h][1]\n",
        "    def __setitem__(self, key, value):\n",
        "        self.put(key, value)\n",
        "    def __getitem__(self, key):\n",
        "        self.get(key)\n"
      ]
    },
    {
      "cell_type": "code",
      "source": [
        "        \n",
        "ht = HashTable()\n",
        "ht.put(\"England\",\"London\")\n",
        "print(ht.get(\"England\"))"
      ],
      "metadata": {
        "colab": {
          "base_uri": "https://localhost:8080/"
        },
        "id": "N2smtV6BgVKz",
        "outputId": "16e927ff-dd4f-46c3-86fb-d4c18b194ed0"
      },
      "execution_count": 12,
      "outputs": [
        {
          "output_type": "stream",
          "name": "stdout",
          "text": [
            "London\n"
          ]
        }
      ]
    },
    {
      "cell_type": "code",
      "source": [
        "ht = HashTable()\n",
        "ht.put[\"England\"] = \"London\"\n",
        "print(ht[\"England\"])"
      ],
      "metadata": {
        "colab": {
          "base_uri": "https://localhost:8080/",
          "height": 200
        },
        "id": "LuZDuOtOhe6P",
        "outputId": "f5027a08-8ddc-4eca-968f-c53e9645bd4c"
      },
      "execution_count": 14,
      "outputs": [
        {
          "output_type": "error",
          "ename": "TypeError",
          "evalue": "ignored",
          "traceback": [
            "\u001b[0;31m---------------------------------------------------------------------------\u001b[0m",
            "\u001b[0;31mTypeError\u001b[0m                                 Traceback (most recent call last)",
            "\u001b[0;32m<ipython-input-14-c56dd24cd1ae>\u001b[0m in \u001b[0;36m<cell line: 2>\u001b[0;34m()\u001b[0m\n\u001b[1;32m      1\u001b[0m \u001b[0mht\u001b[0m \u001b[0;34m=\u001b[0m \u001b[0mHashTable\u001b[0m\u001b[0;34m(\u001b[0m\u001b[0;34m)\u001b[0m\u001b[0;34m\u001b[0m\u001b[0;34m\u001b[0m\u001b[0m\n\u001b[0;32m----> 2\u001b[0;31m \u001b[0mht\u001b[0m\u001b[0;34m.\u001b[0m\u001b[0mput\u001b[0m\u001b[0;34m[\u001b[0m\u001b[0;34m\"England\"\u001b[0m\u001b[0;34m]\u001b[0m \u001b[0;34m=\u001b[0m \u001b[0;34m\"London\"\u001b[0m\u001b[0;34m\u001b[0m\u001b[0;34m\u001b[0m\u001b[0m\n\u001b[0m\u001b[1;32m      3\u001b[0m \u001b[0mprint\u001b[0m\u001b[0;34m(\u001b[0m\u001b[0mht\u001b[0m\u001b[0;34m[\u001b[0m\u001b[0;34m\"England\"\u001b[0m\u001b[0;34m]\u001b[0m\u001b[0;34m)\u001b[0m\u001b[0;34m\u001b[0m\u001b[0;34m\u001b[0m\u001b[0m\n",
            "\u001b[0;31mTypeError\u001b[0m: 'method' object does not support item assignment"
          ]
        }
      ]
    }
  ]
}