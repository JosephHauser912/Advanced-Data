{
  "nbformat": 4,
  "nbformat_minor": 0,
  "metadata": {
    "colab": {
      "provenance": [],
      "authorship_tag": "ABX9TyPpT6FkTCBnnpWNqmyq71AI",
      "include_colab_link": true
    },
    "kernelspec": {
      "name": "python3",
      "display_name": "Python 3"
    },
    "language_info": {
      "name": "python"
    }
  },
  "cells": [
    {
      "cell_type": "markdown",
      "metadata": {
        "id": "view-in-github",
        "colab_type": "text"
      },
      "source": [
        "<a href=\"https://colab.research.google.com/github/JosephHauser912/Advanced-Data/blob/main/FCC_Data_Structuresipynb.ipynb\" target=\"_parent\"><img src=\"https://colab.research.google.com/assets/colab-badge.svg\" alt=\"Open In Colab\"/></a>"
      ]
    },
    {
      "cell_type": "code",
      "execution_count": 2,
      "metadata": {
        "id": "A8ZRGAvuZq-V"
      },
      "outputs": [],
      "source": [
        "l = [1,3,4.9,\"name\", 3]\n",
        "T = (1,3,4.9, \"name\", 3)\n",
        "S = {1,3,4.9,\"name\", 3}\n",
        "D = {23:\"twothree\",'B':43,\"C\":\"CCD\"}\n"
      ]
    },
    {
      "cell_type": "code",
      "source": [
        "print(\"The type of L is\", type(l))\n",
        "print(\"The type of T is\", type(T))\n",
        "print(\"The type of S is\", type(S))\n",
        "print(\"The type of D is\", type(D))"
      ],
      "metadata": {
        "colab": {
          "base_uri": "https://localhost:8080/"
        },
        "id": "vrIWt6KvaEMX",
        "outputId": "44fa14cf-91f0-4e9c-e01e-74df7ce26893"
      },
      "execution_count": 5,
      "outputs": [
        {
          "output_type": "stream",
          "name": "stdout",
          "text": [
            "The type of L is <class 'list'>\n",
            "The type of T is <class 'tuple'>\n",
            "The type of S is <class 'set'>\n",
            "The type of D is <class 'dict'>\n"
          ]
        }
      ]
    },
    {
      "cell_type": "code",
      "source": [
        "print(l[1])\n",
        "print(T[1])\n",
        "print(3 in S)\n",
        "print(D[23])"
      ],
      "metadata": {
        "colab": {
          "base_uri": "https://localhost:8080/"
        },
        "id": "hV23Kzpganth",
        "outputId": "4a37da1f-9278-454b-97c3-095e5403f963"
      },
      "execution_count": 9,
      "outputs": [
        {
          "output_type": "stream",
          "name": "stdout",
          "text": [
            "3\n",
            "3\n",
            "True\n",
            "twothree\n"
          ]
        }
      ]
    },
    {
      "cell_type": "code",
      "source": [
        "print(D['B'])"
      ],
      "metadata": {
        "colab": {
          "base_uri": "https://localhost:8080/"
        },
        "id": "ix95ep_KbCPA",
        "outputId": "f4caf131-88f2-4dc0-bdde-d39113d6831c"
      },
      "execution_count": 10,
      "outputs": [
        {
          "output_type": "stream",
          "name": "stdout",
          "text": [
            "43\n"
          ]
        }
      ]
    },
    {
      "cell_type": "code",
      "source": [
        "S"
      ],
      "metadata": {
        "colab": {
          "base_uri": "https://localhost:8080/"
        },
        "id": "pvY5mrnzbFYp",
        "outputId": "9ce80175-2ee4-4bc2-c591-b2d8dac491e6"
      },
      "execution_count": 11,
      "outputs": [
        {
          "output_type": "execute_result",
          "data": {
            "text/plain": [
              "{1, 3, 4.9, 'name'}"
            ]
          },
          "metadata": {},
          "execution_count": 11
        }
      ]
    },
    {
      "cell_type": "code",
      "source": [
        "l\n",
        "l[1:3]"
      ],
      "metadata": {
        "colab": {
          "base_uri": "https://localhost:8080/"
        },
        "id": "iqLZ1LeNbHIp",
        "outputId": "c7fddcba-66f3-4462-c605-76bce5314fce"
      },
      "execution_count": 4,
      "outputs": [
        {
          "output_type": "execute_result",
          "data": {
            "text/plain": [
              "[3, 4.9]"
            ]
          },
          "metadata": {},
          "execution_count": 4
        }
      ]
    },
    {
      "cell_type": "code",
      "source": [
        "l[::-1 ]"
      ],
      "metadata": {
        "colab": {
          "base_uri": "https://localhost:8080/"
        },
        "id": "NF_KmQCkPasm",
        "outputId": "27067f82-47e3-4a8a-9fa2-0bbd065a2cd2"
      },
      "execution_count": 5,
      "outputs": [
        {
          "output_type": "execute_result",
          "data": {
            "text/plain": [
              "[3, 'name', 4.9, 3, 1]"
            ]
          },
          "metadata": {},
          "execution_count": 5
        }
      ]
    },
    {
      "cell_type": "code",
      "source": [
        "D[23] = 'twentythree'\n",
        "D[\"45\"] = \"fourfive\"\n",
        "D"
      ],
      "metadata": {
        "colab": {
          "base_uri": "https://localhost:8080/"
        },
        "id": "rxs0lq5CPi7s",
        "outputId": "514a9b3c-88a7-4717-cd13-19e16145a49c"
      },
      "execution_count": 10,
      "outputs": [
        {
          "output_type": "execute_result",
          "data": {
            "text/plain": [
              "{23: 'twentythree', 'B': 43, 'C': 'CCD', '23': 'twentythree', '45': 'fourfive'}"
            ]
          },
          "metadata": {},
          "execution_count": 10
        }
      ]
    }
  ]
}