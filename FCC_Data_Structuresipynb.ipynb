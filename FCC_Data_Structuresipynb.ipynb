{
  "nbformat": 4,
  "nbformat_minor": 0,
  "metadata": {
    "colab": {
      "provenance": [],
      "authorship_tag": "ABX9TyM0/aJ5EPQ8HqQ5uMLsqT6x",
      "include_colab_link": true
    },
    "kernelspec": {
      "name": "python3",
      "display_name": "Python 3"
    },
    "language_info": {
      "name": "python"
    }
  },
  "cells": [
    {
      "cell_type": "markdown",
      "metadata": {
        "id": "view-in-github",
        "colab_type": "text"
      },
      "source": [
        "<a href=\"https://colab.research.google.com/github/JosephHauser912/Advanced-Data/blob/main/FCC_Data_Structuresipynb.ipynb\" target=\"_parent\"><img src=\"https://colab.research.google.com/assets/colab-badge.svg\" alt=\"Open In Colab\"/></a>"
      ]
    },
    {
      "cell_type": "code",
      "execution_count": 2,
      "metadata": {
        "id": "A8ZRGAvuZq-V"
      },
      "outputs": [],
      "source": [
        "l = [1,3,4.9,\"name\", 3]\n",
        "T = (1,3,4.9, \"name\", 3)\n",
        "S = {1,3,4.9,\"name\", 3}\n",
        "D = {23:\"twothree\",'B':43,\"C\":\"CCD\"}\n"
      ]
    },
    {
      "cell_type": "code",
      "source": [
        "print(\"The type of L is\", type(l))\n",
        "print(\"The type of T is\", type(T))\n",
        "print(\"The type of S is\", type(S))\n",
        "print(\"The type of D is\", type(D))"
      ],
      "metadata": {
        "colab": {
          "base_uri": "https://localhost:8080/"
        },
        "id": "vrIWt6KvaEMX",
        "outputId": "44fa14cf-91f0-4e9c-e01e-74df7ce26893"
      },
      "execution_count": 5,
      "outputs": [
        {
          "output_type": "stream",
          "name": "stdout",
          "text": [
            "The type of L is <class 'list'>\n",
            "The type of T is <class 'tuple'>\n",
            "The type of S is <class 'set'>\n",
            "The type of D is <class 'dict'>\n"
          ]
        }
      ]
    },
    {
      "cell_type": "code",
      "source": [
        "print(l[1])\n",
        "print(T[1])\n",
        "print(3 in S)\n",
        "print(D[23])"
      ],
      "metadata": {
        "colab": {
          "base_uri": "https://localhost:8080/"
        },
        "id": "hV23Kzpganth",
        "outputId": "4a37da1f-9278-454b-97c3-095e5403f963"
      },
      "execution_count": 9,
      "outputs": [
        {
          "output_type": "stream",
          "name": "stdout",
          "text": [
            "3\n",
            "3\n",
            "True\n",
            "twothree\n"
          ]
        }
      ]
    },
    {
      "cell_type": "code",
      "source": [
        "print(D['B'])"
      ],
      "metadata": {
        "colab": {
          "base_uri": "https://localhost:8080/"
        },
        "id": "ix95ep_KbCPA",
        "outputId": "f4caf131-88f2-4dc0-bdde-d39113d6831c"
      },
      "execution_count": 10,
      "outputs": [
        {
          "output_type": "stream",
          "name": "stdout",
          "text": [
            "43\n"
          ]
        }
      ]
    },
    {
      "cell_type": "code",
      "source": [
        "S"
      ],
      "metadata": {
        "colab": {
          "base_uri": "https://localhost:8080/"
        },
        "id": "pvY5mrnzbFYp",
        "outputId": "9ce80175-2ee4-4bc2-c591-b2d8dac491e6"
      },
      "execution_count": 11,
      "outputs": [
        {
          "output_type": "execute_result",
          "data": {
            "text/plain": [
              "{1, 3, 4.9, 'name'}"
            ]
          },
          "metadata": {},
          "execution_count": 11
        }
      ]
    },
    {
      "cell_type": "code",
      "source": [
        "l\n",
        "l[1:3]"
      ],
      "metadata": {
        "colab": {
          "base_uri": "https://localhost:8080/"
        },
        "id": "iqLZ1LeNbHIp",
        "outputId": "c7fddcba-66f3-4462-c605-76bce5314fce"
      },
      "execution_count": 4,
      "outputs": [
        {
          "output_type": "execute_result",
          "data": {
            "text/plain": [
              "[3, 4.9]"
            ]
          },
          "metadata": {},
          "execution_count": 4
        }
      ]
    },
    {
      "cell_type": "code",
      "source": [
        "l[::-1 ]"
      ],
      "metadata": {
        "colab": {
          "base_uri": "https://localhost:8080/"
        },
        "id": "NF_KmQCkPasm",
        "outputId": "27067f82-47e3-4a8a-9fa2-0bbd065a2cd2"
      },
      "execution_count": 5,
      "outputs": [
        {
          "output_type": "execute_result",
          "data": {
            "text/plain": [
              "[3, 'name', 4.9, 3, 1]"
            ]
          },
          "metadata": {},
          "execution_count": 5
        }
      ]
    },
    {
      "cell_type": "code",
      "source": [
        "D[23] = 'twentythree'\n",
        "D[\"45\"] = \"fourfive\"\n",
        "D"
      ],
      "metadata": {
        "colab": {
          "base_uri": "https://localhost:8080/"
        },
        "id": "rxs0lq5CPi7s",
        "outputId": "514a9b3c-88a7-4717-cd13-19e16145a49c"
      },
      "execution_count": 10,
      "outputs": [
        {
          "output_type": "execute_result",
          "data": {
            "text/plain": [
              "{23: 'twentythree', 'B': 43, 'C': 'CCD', '23': 'twentythree', '45': 'fourfive'}"
            ]
          },
          "metadata": {},
          "execution_count": 10
        }
      ]
    },
    {
      "cell_type": "code",
      "source": [
        "l = l + [\"how\", \"are\", 7, \"you\"]"
      ],
      "metadata": {
        "id": "kO036g_QQ6k9"
      },
      "execution_count": 12,
      "outputs": []
    },
    {
      "cell_type": "code",
      "source": [
        "l\n",
        "l.append(8.4)\n",
        "l\n"
      ],
      "metadata": {
        "id": "yzlidJlKRNvL"
      },
      "execution_count": 14,
      "outputs": []
    },
    {
      "cell_type": "code",
      "source": [
        "T2 = (\"a\", \"b\", 45)\n",
        "T3 = T + T2\n",
        "T3"
      ],
      "metadata": {
        "colab": {
          "base_uri": "https://localhost:8080/"
        },
        "id": "bvkn0h6ERRoC",
        "outputId": "478a160d-a47c-4806-b895-106900f34f88"
      },
      "execution_count": 17,
      "outputs": [
        {
          "output_type": "execute_result",
          "data": {
            "text/plain": [
              "(1, 3, 4.9, 'name', 3, 'a', 'b', 45)"
            ]
          },
          "metadata": {},
          "execution_count": 17
        }
      ]
    },
    {
      "cell_type": "code",
      "source": [
        "S.add(T2)\n",
        "S\n"
      ],
      "metadata": {
        "colab": {
          "base_uri": "https://localhost:8080/"
        },
        "id": "T6rhhuWURcNA",
        "outputId": "01a5b2c8-66ae-4d38-b686-c6ec79dabaa8"
      },
      "execution_count": 19,
      "outputs": [
        {
          "output_type": "execute_result",
          "data": {
            "text/plain": [
              "{('a', 'b', 45), 1, 3, 4.9, 'name'}"
            ]
          },
          "metadata": {},
          "execution_count": 19
        }
      ]
    },
    {
      "cell_type": "code",
      "source": [
        "S.update({23,\"game\",1})\n",
        "S"
      ],
      "metadata": {
        "colab": {
          "base_uri": "https://localhost:8080/"
        },
        "id": "TFkWoGzNRi0P",
        "outputId": "4050b26d-aaa6-4047-b12e-5b437af55183"
      },
      "execution_count": 42,
      "outputs": [
        {
          "output_type": "execute_result",
          "data": {
            "text/plain": [
              "{('a', 'b', 45), 1, 23, 4.9, 'game', 'name'}"
            ]
          },
          "metadata": {},
          "execution_count": 42
        }
      ]
    },
    {
      "cell_type": "code",
      "source": [
        "S"
      ],
      "metadata": {
        "colab": {
          "base_uri": "https://localhost:8080/"
        },
        "id": "oN5YLU4gVU9I",
        "outputId": "7fe24b84-6e09-4d46-f877-b77f6abf15f9"
      },
      "execution_count": 43,
      "outputs": [
        {
          "output_type": "execute_result",
          "data": {
            "text/plain": [
              "{('a', 'b', 45), 1, 23, 4.9, 'game', 'name'}"
            ]
          },
          "metadata": {},
          "execution_count": 43
        }
      ]
    },
    {
      "cell_type": "code",
      "source": [
        "D"
      ],
      "metadata": {
        "colab": {
          "base_uri": "https://localhost:8080/"
        },
        "id": "IENUP8XxR_GA",
        "outputId": "0ca48ed6-5570-4552-a27d-cf68d4189cb3"
      },
      "execution_count": 21,
      "outputs": [
        {
          "output_type": "execute_result",
          "data": {
            "text/plain": [
              "{23: 'twentythree', 'B': 43, 'C': 'CCD', '23': 'twentythree', '45': 'fourfive'}"
            ]
          },
          "metadata": {},
          "execution_count": 21
        }
      ]
    },
    {
      "cell_type": "code",
      "source": [
        "D[\"newKey\"] = \"newValue\""
      ],
      "metadata": {
        "id": "2G3Q7dxmSAn4"
      },
      "execution_count": 22,
      "outputs": []
    },
    {
      "cell_type": "code",
      "source": [
        "D"
      ],
      "metadata": {
        "colab": {
          "base_uri": "https://localhost:8080/"
        },
        "id": "68t4MCCNSE_m",
        "outputId": "5419f493-0abe-4c58-e1e1-baec58fed44a"
      },
      "execution_count": 23,
      "outputs": [
        {
          "output_type": "execute_result",
          "data": {
            "text/plain": [
              "{23: 'twentythree',\n",
              " 'B': 43,\n",
              " 'C': 'CCD',\n",
              " '23': 'twentythree',\n",
              " '45': 'fourfive',\n",
              " 'newKey': 'newValue'}"
            ]
          },
          "metadata": {},
          "execution_count": 23
        }
      ]
    },
    {
      "cell_type": "code",
      "source": [
        "D2 = {\"key\":\"val\", \"y\":\"YY\", \"z\":\"ZZ\"}"
      ],
      "metadata": {
        "id": "o7APGfJqSHt3"
      },
      "execution_count": 24,
      "outputs": []
    },
    {
      "cell_type": "code",
      "source": [
        "D2"
      ],
      "metadata": {
        "colab": {
          "base_uri": "https://localhost:8080/"
        },
        "id": "5JTFA_gnSQrl",
        "outputId": "43d67ccd-7981-4722-f948-1d82d30b35e5"
      },
      "execution_count": 25,
      "outputs": [
        {
          "output_type": "execute_result",
          "data": {
            "text/plain": [
              "{'key': 'val', 'y': 'YY', 'z': 'ZZ'}"
            ]
          },
          "metadata": {},
          "execution_count": 25
        }
      ]
    },
    {
      "cell_type": "code",
      "source": [
        "D3 = D + D2"
      ],
      "metadata": {
        "colab": {
          "base_uri": "https://localhost:8080/",
          "height": 165
        },
        "id": "yYHnImmSSSiO",
        "outputId": "aaf81ceb-b9ae-421f-9856-a4d202cde15b"
      },
      "execution_count": 26,
      "outputs": [
        {
          "output_type": "error",
          "ename": "TypeError",
          "evalue": "ignored",
          "traceback": [
            "\u001b[0;31m---------------------------------------------------------------------------\u001b[0m",
            "\u001b[0;31mTypeError\u001b[0m                                 Traceback (most recent call last)",
            "\u001b[0;32m<ipython-input-26-ab98ce588230>\u001b[0m in \u001b[0;36m<cell line: 1>\u001b[0;34m()\u001b[0m\n\u001b[0;32m----> 1\u001b[0;31m \u001b[0mD3\u001b[0m \u001b[0;34m=\u001b[0m \u001b[0mD\u001b[0m \u001b[0;34m+\u001b[0m \u001b[0mD2\u001b[0m\u001b[0;34m\u001b[0m\u001b[0;34m\u001b[0m\u001b[0m\n\u001b[0m",
            "\u001b[0;31mTypeError\u001b[0m: unsupported operand type(s) for +: 'dict' and 'dict'"
          ]
        }
      ]
    },
    {
      "cell_type": "code",
      "source": [
        "D.update(D2)\n",
        "D\n"
      ],
      "metadata": {
        "colab": {
          "base_uri": "https://localhost:8080/"
        },
        "id": "lmfbsOfXSdXN",
        "outputId": "88bc0ac6-fa34-41d5-e170-2c253f1f6ea1"
      },
      "execution_count": 29,
      "outputs": [
        {
          "output_type": "execute_result",
          "data": {
            "text/plain": [
              "{23: 'twentythree',\n",
              " 'B': 43,\n",
              " 'C': 'CCD',\n",
              " '23': 'twentythree',\n",
              " '45': 'fourfive',\n",
              " 'newKey': 'newValue',\n",
              " 'key': 'val',\n",
              " 'y': 'YY',\n",
              " 'z': 'ZZ'}"
            ]
          },
          "metadata": {},
          "execution_count": 29
        }
      ]
    },
    {
      "cell_type": "code",
      "source": [
        "D3 = D | D2\n",
        "D3"
      ],
      "metadata": {
        "colab": {
          "base_uri": "https://localhost:8080/"
        },
        "id": "_mp6DTQwSoRr",
        "outputId": "31c129b2-d84b-4230-dc5a-772dfcb27bdf"
      },
      "execution_count": 31,
      "outputs": [
        {
          "output_type": "execute_result",
          "data": {
            "text/plain": [
              "{23: 'twentythree',\n",
              " 'B': 43,\n",
              " 'C': 'CCD',\n",
              " '23': 'twentythree',\n",
              " '45': 'fourfive',\n",
              " 'newKey': 'newValue',\n",
              " 'key': 'val',\n",
              " 'y': 'YY',\n",
              " 'z': 'ZZ'}"
            ]
          },
          "metadata": {},
          "execution_count": 31
        }
      ]
    },
    {
      "cell_type": "code",
      "source": [
        "del l[3]\n",
        "l\n"
      ],
      "metadata": {
        "colab": {
          "base_uri": "https://localhost:8080/"
        },
        "id": "0G31PSc8UtgI",
        "outputId": "abf19290-95d6-4938-8d8f-ff4ada059338"
      },
      "execution_count": 33,
      "outputs": [
        {
          "output_type": "execute_result",
          "data": {
            "text/plain": [
              "[1, 3, 4.9, 'how', 'are', 7, 'you', 8.4]"
            ]
          },
          "metadata": {},
          "execution_count": 33
        }
      ]
    },
    {
      "cell_type": "code",
      "source": [
        "S\n",
        "S.remove(\"game\")\n"
      ],
      "metadata": {
        "colab": {
          "base_uri": "https://localhost:8080/",
          "height": 200
        },
        "id": "VXdXPBVRUzK5",
        "outputId": "138c6c2d-f3a1-4a7c-8639-d8b429a40632"
      },
      "execution_count": 51,
      "outputs": [
        {
          "output_type": "error",
          "ename": "KeyError",
          "evalue": "ignored",
          "traceback": [
            "\u001b[0;31m---------------------------------------------------------------------------\u001b[0m",
            "\u001b[0;31mKeyError\u001b[0m                                  Traceback (most recent call last)",
            "\u001b[0;32m<ipython-input-51-eb8b0f5e2db3>\u001b[0m in \u001b[0;36m<cell line: 2>\u001b[0;34m()\u001b[0m\n\u001b[1;32m      1\u001b[0m \u001b[0mS\u001b[0m\u001b[0;34m\u001b[0m\u001b[0;34m\u001b[0m\u001b[0m\n\u001b[0;32m----> 2\u001b[0;31m \u001b[0mS\u001b[0m\u001b[0;34m.\u001b[0m\u001b[0mremove\u001b[0m\u001b[0;34m(\u001b[0m\u001b[0;34m\"game\"\u001b[0m\u001b[0;34m)\u001b[0m\u001b[0;34m\u001b[0m\u001b[0;34m\u001b[0m\u001b[0m\n\u001b[0m\u001b[1;32m      3\u001b[0m \u001b[0mS\u001b[0m\u001b[0;34m\u001b[0m\u001b[0;34m\u001b[0m\u001b[0m\n",
            "\u001b[0;31mKeyError\u001b[0m: 'game'"
          ]
        }
      ]
    },
    {
      "cell_type": "code",
      "source": [
        "S"
      ],
      "metadata": {
        "colab": {
          "base_uri": "https://localhost:8080/"
        },
        "id": "W-Ar0obxVoK8",
        "outputId": "672dc82b-2225-4d0b-834a-c1df0d7bcaba"
      },
      "execution_count": 52,
      "outputs": [
        {
          "output_type": "execute_result",
          "data": {
            "text/plain": [
              "{('a', 'b', 45), 1, 23, 4.9, 'name'}"
            ]
          },
          "metadata": {},
          "execution_count": 52
        }
      ]
    },
    {
      "cell_type": "code",
      "source": [
        "del D[\"C\"]\n"
      ],
      "metadata": {
        "colab": {
          "base_uri": "https://localhost:8080/",
          "height": 183
        },
        "id": "PYz5hdtgVe_8",
        "outputId": "17b69630-3aa7-4ca1-f408-917702f9685c"
      },
      "execution_count": 49,
      "outputs": [
        {
          "output_type": "error",
          "ename": "KeyError",
          "evalue": "ignored",
          "traceback": [
            "\u001b[0;31m---------------------------------------------------------------------------\u001b[0m",
            "\u001b[0;31mKeyError\u001b[0m                                  Traceback (most recent call last)",
            "\u001b[0;32m<ipython-input-49-96e992988ade>\u001b[0m in \u001b[0;36m<cell line: 1>\u001b[0;34m()\u001b[0m\n\u001b[0;32m----> 1\u001b[0;31m \u001b[0;32mdel\u001b[0m \u001b[0mD\u001b[0m\u001b[0;34m[\u001b[0m\u001b[0;34m\"C\"\u001b[0m\u001b[0;34m]\u001b[0m\u001b[0;34m\u001b[0m\u001b[0;34m\u001b[0m\u001b[0m\n\u001b[0m\u001b[1;32m      2\u001b[0m \u001b[0mD\u001b[0m\u001b[0;34m\u001b[0m\u001b[0;34m\u001b[0m\u001b[0m\n",
            "\u001b[0;31mKeyError\u001b[0m: 'C'"
          ]
        }
      ]
    },
    {
      "cell_type": "code",
      "source": [
        "D"
      ],
      "metadata": {
        "colab": {
          "base_uri": "https://localhost:8080/"
        },
        "id": "rky4MxdiVl9t",
        "outputId": "33f9772c-d3fb-4c56-91a2-15eaf80d1f11"
      },
      "execution_count": 50,
      "outputs": [
        {
          "output_type": "execute_result",
          "data": {
            "text/plain": [
              "{23: 'twentythree',\n",
              " 'B': 43,\n",
              " '23': 'twentythree',\n",
              " '45': 'fourfive',\n",
              " 'newKey': 'newValue',\n",
              " 'key': 'val',\n",
              " 'y': 'YY',\n",
              " 'z': 'ZZ'}"
            ]
          },
          "metadata": {},
          "execution_count": 50
        }
      ]
    },
    {
      "cell_type": "code",
      "source": [
        "L2 = l\n",
        "L2\n",
        "l"
      ],
      "metadata": {
        "colab": {
          "base_uri": "https://localhost:8080/"
        },
        "id": "v1qtTbrmXL9E",
        "outputId": "26bce229-aead-4106-aeec-e083e62e8554"
      },
      "execution_count": 53,
      "outputs": [
        {
          "output_type": "execute_result",
          "data": {
            "text/plain": [
              "[1, 3, 4.9, 'how', 'are', 7, 'you', 8.4]"
            ]
          },
          "metadata": {},
          "execution_count": 53
        }
      ]
    },
    {
      "cell_type": "code",
      "source": [
        "L2[2] = 'four point nine'"
      ],
      "metadata": {
        "id": "FSt1K9I3XQZr"
      },
      "execution_count": 55,
      "outputs": []
    },
    {
      "cell_type": "code",
      "source": [
        "L2 = l.copy()"
      ],
      "metadata": {
        "id": "cluUK4n1XbeJ"
      },
      "execution_count": 69,
      "outputs": []
    },
    {
      "cell_type": "code",
      "source": [
        "l"
      ],
      "metadata": {
        "colab": {
          "base_uri": "https://localhost:8080/"
        },
        "id": "eJzPrxakYCWO",
        "outputId": "519b8444-7f09-4f17-9af9-e2e8ee405752"
      },
      "execution_count": 70,
      "outputs": [
        {
          "output_type": "execute_result",
          "data": {
            "text/plain": [
              "[1, 3, 'four point nine', 'how', 'are', 7, 'you', 8.4]"
            ]
          },
          "metadata": {},
          "execution_count": 70
        }
      ]
    },
    {
      "cell_type": "code",
      "source": [
        "L2"
      ],
      "metadata": {
        "colab": {
          "base_uri": "https://localhost:8080/"
        },
        "id": "aKxMkaG5XlVo",
        "outputId": "df962456-7ccf-4bb2-9223-67866988d34e"
      },
      "execution_count": 61,
      "outputs": [
        {
          "output_type": "execute_result",
          "data": {
            "text/plain": [
              "[1, 3, 'four point nine', 'how', 'are', 7, 'you', 8.4]"
            ]
          },
          "metadata": {},
          "execution_count": 61
        }
      ]
    },
    {
      "cell_type": "code",
      "source": [
        "L2[2]= 4.9\n",
        "L2"
      ],
      "metadata": {
        "colab": {
          "base_uri": "https://localhost:8080/"
        },
        "id": "80fZA5jdXfK4",
        "outputId": "a48fc3bf-7610-49c5-d908-fb156d431d63"
      },
      "execution_count": 62,
      "outputs": [
        {
          "output_type": "execute_result",
          "data": {
            "text/plain": [
              "[1, 3, 4.9, 'how', 'are', 7, 'you', 8.4]"
            ]
          },
          "metadata": {},
          "execution_count": 62
        }
      ]
    },
    {
      "cell_type": "code",
      "source": [
        "l"
      ],
      "metadata": {
        "colab": {
          "base_uri": "https://localhost:8080/"
        },
        "id": "eM6-C6WkXrZI",
        "outputId": "029dae2f-e9db-4eae-bf15-d4b1d4207470"
      },
      "execution_count": 64,
      "outputs": [
        {
          "output_type": "execute_result",
          "data": {
            "text/plain": [
              "[1, 3, 'four point nine', 'how', 'are', 7, 'you', 8.4]"
            ]
          },
          "metadata": {},
          "execution_count": 64
        }
      ]
    },
    {
      "cell_type": "code",
      "source": [
        "L3 = l[1:5] \n",
        "L3[0] = 'three'"
      ],
      "metadata": {
        "id": "Iy1nSNVUXwpv"
      },
      "execution_count": 72,
      "outputs": []
    }
  ]
}