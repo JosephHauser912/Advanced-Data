{
  "nbformat": 4,
  "nbformat_minor": 0,
  "metadata": {
    "colab": {
      "provenance": [],
      "authorship_tag": "ABX9TyP57BoNGBneINq5dQ0hvw5P",
      "include_colab_link": true
    },
    "kernelspec": {
      "name": "python3",
      "display_name": "Python 3"
    },
    "language_info": {
      "name": "python"
    }
  },
  "cells": [
    {
      "cell_type": "markdown",
      "metadata": {
        "id": "view-in-github",
        "colab_type": "text"
      },
      "source": [
        "<a href=\"https://colab.research.google.com/github/JosephHauser912/Advanced-Data/blob/main/FCC_numpy2.ipynb\" target=\"_parent\"><img src=\"https://colab.research.google.com/assets/colab-badge.svg\" alt=\"Open In Colab\"/></a>"
      ]
    },
    {
      "cell_type": "code",
      "execution_count": 1,
      "metadata": {
        "id": "z3EljN_2stu9"
      },
      "outputs": [],
      "source": [
        "import numpy as np"
      ]
    },
    {
      "cell_type": "code",
      "source": [
        "a=np.arange(100)\n",
        "a"
      ],
      "metadata": {
        "colab": {
          "base_uri": "https://localhost:8080/"
        },
        "id": "aFzqu4UCs1wO",
        "outputId": "bef348bc-9931-4d21-d3c7-96cab736ff72"
      },
      "execution_count": 3,
      "outputs": [
        {
          "output_type": "execute_result",
          "data": {
            "text/plain": [
              "array([ 0,  1,  2,  3,  4,  5,  6,  7,  8,  9, 10, 11, 12, 13, 14, 15, 16,\n",
              "       17, 18, 19, 20, 21, 22, 23, 24, 25, 26, 27, 28, 29, 30, 31, 32, 33,\n",
              "       34, 35, 36, 37, 38, 39, 40, 41, 42, 43, 44, 45, 46, 47, 48, 49, 50,\n",
              "       51, 52, 53, 54, 55, 56, 57, 58, 59, 60, 61, 62, 63, 64, 65, 66, 67,\n",
              "       68, 69, 70, 71, 72, 73, 74, 75, 76, 77, 78, 79, 80, 81, 82, 83, 84,\n",
              "       85, 86, 87, 88, 89, 90, 91, 92, 93, 94, 95, 96, 97, 98, 99])"
            ]
          },
          "metadata": {},
          "execution_count": 3
        }
      ]
    },
    {
      "cell_type": "code",
      "source": [
        "b = np.arange(20,100,5)\n",
        "b"
      ],
      "metadata": {
        "colab": {
          "base_uri": "https://localhost:8080/"
        },
        "id": "l9yUFlSwtAW3",
        "outputId": "d5c8a959-7d2a-4ca4-8d36-1d0f7a14290a"
      },
      "execution_count": 4,
      "outputs": [
        {
          "output_type": "execute_result",
          "data": {
            "text/plain": [
              "array([20, 25, 30, 35, 40, 45, 50, 55, 60, 65, 70, 75, 80, 85, 90, 95])"
            ]
          },
          "metadata": {},
          "execution_count": 4
        }
      ]
    },
    {
      "cell_type": "code",
      "source": [
        "range(10)"
      ],
      "metadata": {
        "colab": {
          "base_uri": "https://localhost:8080/"
        },
        "id": "I4wBiT2OtTD-",
        "outputId": "1493dc8b-60b9-478c-f0cc-510c4c74dcb5"
      },
      "execution_count": 5,
      "outputs": [
        {
          "output_type": "execute_result",
          "data": {
            "text/plain": [
              "range(0, 10)"
            ]
          },
          "metadata": {},
          "execution_count": 5
        }
      ]
    },
    {
      "cell_type": "code",
      "source": [
        "print(range(10))"
      ],
      "metadata": {
        "colab": {
          "base_uri": "https://localhost:8080/"
        },
        "id": "LGujAbjjtXe9",
        "outputId": "0b6e4bf2-4c0f-4475-a336-b0fb80bd0c25"
      },
      "execution_count": 7,
      "outputs": [
        {
          "output_type": "stream",
          "name": "stdout",
          "text": [
            "range(0, 10)\n"
          ]
        }
      ]
    },
    {
      "cell_type": "code",
      "source": [
        "print(list(range(1,10)))"
      ],
      "metadata": {
        "colab": {
          "base_uri": "https://localhost:8080/"
        },
        "id": "FLYVTlvgtclW",
        "outputId": "2637b453-3eaf-4a35-ff0c-2e067bac1277"
      },
      "execution_count": 8,
      "outputs": [
        {
          "output_type": "stream",
          "name": "stdout",
          "text": [
            "[1, 2, 3, 4, 5, 6, 7, 8, 9]\n"
          ]
        }
      ]
    },
    {
      "cell_type": "code",
      "source": [
        "A = np.random.permutation(np.arange(10))\n",
        "A"
      ],
      "metadata": {
        "colab": {
          "base_uri": "https://localhost:8080/"
        },
        "id": "GrqXtcYQtm5D",
        "outputId": "6c569f93-b9df-40cc-b5b1-e107b402750a"
      },
      "execution_count": 10,
      "outputs": [
        {
          "output_type": "execute_result",
          "data": {
            "text/plain": [
              "array([9, 1, 2, 8, 7, 6, 5, 3, 0, 4])"
            ]
          },
          "metadata": {},
          "execution_count": 10
        }
      ]
    },
    {
      "cell_type": "code",
      "source": [
        "v = np.random.randint(20,300)\n",
        "v"
      ],
      "metadata": {
        "colab": {
          "base_uri": "https://localhost:8080/"
        },
        "id": "Z06zWKXMt75T",
        "outputId": "ba6c7303-708e-4bae-baeb-ae91abe86280"
      },
      "execution_count": 25,
      "outputs": [
        {
          "output_type": "execute_result",
          "data": {
            "text/plain": [
              "58"
            ]
          },
          "metadata": {},
          "execution_count": 25
        }
      ]
    },
    {
      "cell_type": "code",
      "source": [
        " a=np.random.rand(1000)"
      ],
      "metadata": {
        "id": "FNK24GT6uRt3"
      },
      "execution_count": 26,
      "outputs": []
    },
    {
      "cell_type": "code",
      "source": [
        "a"
      ],
      "metadata": {
        "colab": {
          "base_uri": "https://localhost:8080/"
        },
        "id": "Iv3gxgJ8wP9m",
        "outputId": "ac595b78-d4d7-4b26-efc5-f22fed19c13c"
      },
      "execution_count": 27,
      "outputs": [
        {
          "output_type": "execute_result",
          "data": {
            "text/plain": [
              "array([3.69859889e-02, 8.04523864e-01, 3.63976445e-02, 2.09109887e-01,\n",
              "       9.44174382e-02, 7.87347475e-01, 9.11549213e-01, 6.94341226e-02,\n",
              "       5.50192418e-01, 6.21309156e-01, 5.23349650e-02, 5.07342044e-02,\n",
              "       9.48604496e-01, 4.95849578e-01, 9.89113372e-01, 9.11451716e-01,\n",
              "       2.32597973e-01, 3.79477109e-01, 8.43090038e-01, 6.68191214e-01,\n",
              "       1.28126144e-01, 4.21501051e-01, 4.91603539e-01, 2.89080127e-01,\n",
              "       2.84187500e-01, 2.71485577e-01, 7.80795044e-01, 4.51220197e-01,\n",
              "       9.89816428e-01, 7.48331668e-01, 3.19095153e-01, 9.89231663e-01,\n",
              "       3.31383330e-01, 5.04578775e-01, 2.89546542e-01, 7.52142944e-01,\n",
              "       7.96871671e-01, 7.24583152e-01, 4.36632714e-01, 1.01463589e-01,\n",
              "       2.25846078e-01, 9.59324490e-01, 3.53314180e-01, 9.07678099e-01,\n",
              "       3.37517040e-01, 3.40668099e-01, 5.90543834e-01, 2.63549847e-01,\n",
              "       5.43406958e-01, 1.58388881e-01, 4.28940000e-02, 9.20279582e-01,\n",
              "       6.39597460e-01, 4.25913594e-01, 4.93485502e-01, 8.31410311e-01,\n",
              "       4.56874229e-01, 9.98883716e-01, 6.64391631e-01, 7.77612157e-01,\n",
              "       8.24667046e-01, 4.83803014e-01, 2.10856472e-01, 7.66594528e-01,\n",
              "       8.96368064e-01, 1.78313503e-01, 3.51101988e-01, 9.20550564e-01,\n",
              "       1.20729032e-01, 3.75150666e-01, 7.49751041e-01, 4.97397665e-01,\n",
              "       3.07884510e-01, 2.14751836e-01, 3.74740925e-01, 2.80408733e-01,\n",
              "       4.94226599e-01, 6.14232933e-02, 8.74069905e-01, 4.36655615e-01,\n",
              "       1.48046444e-02, 7.62797020e-01, 1.45391744e-01, 2.81343493e-01,\n",
              "       8.22420468e-02, 7.93417796e-02, 3.29235600e-01, 5.48955983e-01,\n",
              "       4.28789046e-01, 8.64311113e-01, 7.11455396e-01, 7.48479359e-01,\n",
              "       3.33926392e-01, 3.21009980e-01, 5.87887483e-01, 6.69741341e-01,\n",
              "       1.39405567e-01, 2.02408465e-01, 4.61960276e-01, 1.25755820e-01,\n",
              "       9.54722670e-01, 5.14854362e-01, 8.02207577e-01, 9.38128344e-01,\n",
              "       7.47538237e-01, 7.73133757e-01, 2.43200200e-01, 5.06655165e-02,\n",
              "       1.75547359e-01, 9.04736675e-02, 2.46706773e-01, 4.84222604e-01,\n",
              "       8.64431311e-01, 4.36015506e-01, 7.71013579e-01, 1.75642355e-01,\n",
              "       8.64271136e-01, 3.55582050e-01, 8.87240259e-01, 7.01501996e-01,\n",
              "       5.61193208e-01, 1.52948929e-01, 9.26951843e-01, 3.09432362e-02,\n",
              "       7.80972453e-01, 6.87932917e-01, 3.77854250e-01, 7.26086690e-01,\n",
              "       5.53593968e-01, 1.61904437e-01, 9.28859932e-01, 7.82918631e-01,\n",
              "       6.61075403e-01, 6.59579753e-01, 3.60622986e-01, 6.32772242e-01,\n",
              "       9.44528798e-02, 7.70888354e-01, 7.92898885e-01, 5.93032081e-01,\n",
              "       4.71601256e-02, 2.73909720e-01, 4.26037994e-01, 1.94503503e-01,\n",
              "       5.70341002e-01, 4.74009530e-01, 9.04771258e-01, 2.55789899e-01,\n",
              "       4.65053846e-01, 7.02145345e-01, 9.95299063e-01, 2.54038128e-01,\n",
              "       7.97099712e-01, 1.15952450e-01, 8.65944110e-01, 1.23662096e-01,\n",
              "       3.78704031e-01, 6.08733164e-01, 6.41901522e-01, 1.02585413e-01,\n",
              "       7.82948143e-01, 9.89916427e-01, 7.52060815e-01, 8.12828494e-01,\n",
              "       2.30511494e-01, 7.15925162e-02, 3.15818064e-01, 4.53500214e-01,\n",
              "       5.09713428e-01, 5.18121664e-01, 2.44102465e-01, 5.30263085e-01,\n",
              "       6.18449614e-01, 4.36036872e-02, 5.43430403e-01, 3.26847783e-01,\n",
              "       9.67016968e-01, 3.26362302e-01, 5.48500412e-01, 1.15363030e-01,\n",
              "       4.20479767e-01, 1.87358533e-01, 8.77219577e-01, 8.20686354e-01,\n",
              "       9.40485959e-01, 6.32127402e-01, 2.41658136e-01, 3.49704234e-01,\n",
              "       7.32054722e-01, 6.42146533e-01, 6.47876170e-01, 3.57444727e-01,\n",
              "       4.38817175e-01, 8.32833031e-01, 7.20834122e-01, 2.15816273e-01,\n",
              "       6.83694087e-01, 8.77808538e-01, 7.58002682e-01, 9.83470501e-01,\n",
              "       4.99317809e-02, 8.11537800e-01, 7.10340843e-01, 5.05010446e-01,\n",
              "       4.52273766e-01, 7.41149643e-01, 8.21336378e-01, 5.98140696e-01,\n",
              "       7.31608996e-01, 4.06368670e-01, 1.98781156e-01, 1.08913794e-01,\n",
              "       6.17423911e-01, 2.09413846e-01, 7.04188893e-02, 1.01872040e-01,\n",
              "       4.33487062e-02, 1.87338271e-02, 7.74990736e-01, 6.14359544e-01,\n",
              "       8.77321215e-01, 4.83618695e-01, 4.87926919e-01, 7.27367367e-01,\n",
              "       9.14379936e-02, 1.09752759e-02, 6.95017408e-01, 7.48245967e-01,\n",
              "       1.16515966e-02, 7.86908928e-02, 1.34426159e-02, 3.44727853e-01,\n",
              "       5.52591750e-02, 3.98353165e-01, 4.98333032e-02, 5.38230332e-01,\n",
              "       9.99530028e-01, 7.72487447e-01, 8.76976749e-01, 6.18217793e-01,\n",
              "       6.02509846e-01, 8.26883256e-01, 8.13132903e-01, 6.90045516e-01,\n",
              "       6.65410723e-01, 3.81519694e-02, 1.99152996e-01, 4.10330329e-01,\n",
              "       6.99775506e-01, 4.82805638e-01, 4.66199478e-01, 9.28215795e-01,\n",
              "       1.43335110e-01, 2.25705656e-01, 6.62372819e-01, 9.31125784e-01,\n",
              "       1.79036698e-02, 3.59124648e-01, 5.45873347e-01, 7.16904473e-01,\n",
              "       5.36449136e-01, 6.29189345e-01, 3.85310969e-01, 6.89330991e-01,\n",
              "       7.37739237e-01, 8.96191868e-02, 8.05450122e-01, 3.57131257e-01,\n",
              "       2.77276830e-01, 9.47707855e-01, 9.98102172e-01, 3.04930922e-03,\n",
              "       6.87989231e-01, 2.49906917e-01, 7.18754007e-01, 4.52847347e-01,\n",
              "       7.62082777e-02, 2.71183955e-01, 8.80031331e-01, 5.92897178e-01,\n",
              "       3.52022656e-01, 3.50114335e-01, 6.36741803e-01, 8.70221577e-01,\n",
              "       4.73732524e-01, 4.94653115e-01, 6.76322579e-02, 3.08814247e-01,\n",
              "       4.39222687e-04, 4.34237313e-01, 4.37433410e-02, 3.51032567e-01,\n",
              "       6.65471251e-01, 4.95127076e-01, 3.13489665e-01, 3.83480689e-01,\n",
              "       9.82723258e-01, 8.00106750e-02, 3.51905642e-01, 3.92831026e-01,\n",
              "       3.16234416e-01, 3.80961394e-01, 4.13688372e-01, 4.79652815e-01,\n",
              "       6.14120504e-01, 6.54272027e-01, 5.29628811e-01, 2.24933217e-01,\n",
              "       7.77846840e-01, 3.70454807e-01, 3.49365334e-01, 6.21003551e-01,\n",
              "       4.90538857e-01, 8.58877597e-01, 7.93423293e-01, 9.53350421e-01,\n",
              "       7.08186019e-01, 1.92119014e-02, 7.37351820e-02, 7.33200551e-01,\n",
              "       4.47025775e-02, 2.58139238e-01, 2.11398215e-01, 9.44709552e-01,\n",
              "       3.70181810e-01, 5.42380935e-01, 6.53021913e-01, 7.53229884e-02,\n",
              "       6.65588474e-01, 2.17626955e-01, 3.44500413e-01, 7.64194482e-01,\n",
              "       5.26212579e-01, 8.31606867e-01, 8.83145276e-01, 2.09042522e-01,\n",
              "       5.79738660e-01, 2.90021198e-01, 9.04291380e-01, 4.23308413e-01,\n",
              "       3.55793320e-01, 3.99793885e-01, 2.05348567e-02, 5.17449413e-01,\n",
              "       3.80985912e-01, 9.92504267e-01, 9.20367270e-01, 3.74199519e-01,\n",
              "       5.65932341e-01, 6.56319583e-01, 5.78638410e-01, 1.84678846e-01,\n",
              "       4.34779957e-01, 5.06475336e-01, 4.37044696e-03, 2.14828023e-02,\n",
              "       3.06074788e-01, 3.80452771e-01, 2.23930594e-01, 2.93308912e-02,\n",
              "       3.72772330e-01, 8.74053744e-01, 6.32195971e-01, 9.67828169e-01,\n",
              "       9.62242050e-01, 6.68817368e-01, 5.84850271e-01, 6.34021749e-01,\n",
              "       3.96410007e-01, 8.58646597e-02, 8.71446846e-03, 2.43506497e-01,\n",
              "       1.23808643e-01, 7.04039781e-01, 9.12869055e-01, 2.29370270e-01,\n",
              "       3.65367755e-01, 8.06338481e-01, 2.70374606e-01, 3.67038835e-01,\n",
              "       2.62586843e-01, 6.64972939e-01, 1.96625016e-01, 4.96152670e-01,\n",
              "       6.82049763e-01, 6.17361369e-01, 6.17013305e-01, 3.11067421e-01,\n",
              "       4.94462424e-01, 5.29708040e-01, 8.25176415e-01, 8.66469374e-01,\n",
              "       1.58197899e-01, 3.01278428e-01, 8.42226920e-02, 8.66364008e-01,\n",
              "       5.44848574e-01, 1.38440235e-01, 7.28184203e-01, 4.34123398e-01,\n",
              "       7.99384855e-01, 5.94373458e-01, 1.81687393e-01, 9.33168349e-01,\n",
              "       3.29105749e-02, 4.81052164e-01, 6.09555680e-01, 4.15711932e-01,\n",
              "       3.63912252e-01, 2.76759003e-01, 7.15664229e-01, 6.93168220e-01,\n",
              "       4.53316080e-01, 1.83118640e-01, 1.95539853e-01, 7.70184658e-01,\n",
              "       2.95824672e-01, 4.64504531e-01, 9.16116692e-01, 1.66803752e-01,\n",
              "       8.20658906e-01, 7.79494494e-01, 7.77710741e-01, 7.87764895e-01,\n",
              "       8.06909179e-02, 2.20639402e-01, 2.58504092e-01, 2.72715565e-01,\n",
              "       4.74260397e-01, 3.81284278e-02, 2.27787391e-01, 6.29291864e-01,\n",
              "       8.46108539e-01, 4.69462457e-02, 5.60400558e-01, 2.42778843e-01,\n",
              "       8.55911661e-01, 9.80405281e-01, 8.13708945e-01, 9.80634279e-01,\n",
              "       8.80780963e-01, 8.70572118e-01, 6.90718176e-01, 8.75070606e-01,\n",
              "       6.55873677e-01, 9.34539018e-01, 3.13105415e-01, 2.49968401e-01,\n",
              "       8.55633130e-01, 5.24603136e-02, 8.18366898e-01, 4.39963700e-01,\n",
              "       5.23385563e-01, 7.55872226e-01, 6.37676008e-01, 7.57138243e-01,\n",
              "       6.25061641e-01, 5.49917867e-01, 6.55890587e-01, 1.12441163e-04,\n",
              "       7.05755638e-01, 3.57311951e-01, 8.87952223e-01, 1.31708256e-01,\n",
              "       3.25471328e-01, 1.41300457e-01, 9.38135546e-01, 6.76824911e-03,\n",
              "       7.57186533e-01, 8.37430160e-01, 9.47374632e-01, 8.48847446e-01,\n",
              "       7.38414048e-01, 4.71811703e-01, 7.28381968e-01, 3.78282950e-02,\n",
              "       3.31669899e-01, 7.11128065e-01, 4.49371413e-01, 1.27147614e-01,\n",
              "       4.47894755e-01, 3.22857506e-01, 6.17443923e-01, 3.42871679e-01,\n",
              "       4.69854494e-01, 8.33692299e-01, 1.35772662e-01, 5.48601613e-01,\n",
              "       7.78307014e-01, 6.72034402e-01, 9.32003587e-01, 8.72616299e-01,\n",
              "       7.68544424e-01, 8.59427524e-01, 7.48043231e-01, 7.26169283e-02,\n",
              "       6.99354656e-01, 1.42469129e-01, 2.94661480e-01, 7.89218026e-01,\n",
              "       4.06613262e-01, 6.54201572e-01, 5.51099749e-01, 5.20268751e-02,\n",
              "       6.06882844e-02, 9.88207322e-01, 2.03141040e-01, 8.54351050e-01,\n",
              "       2.39217282e-01, 7.25609791e-01, 1.83267713e-01, 8.52356364e-01,\n",
              "       3.11752933e-01, 9.29581249e-01, 9.06878879e-01, 5.53170119e-01,\n",
              "       3.50377064e-01, 7.27361039e-01, 8.33343655e-01, 9.83449044e-01,\n",
              "       8.27799817e-04, 3.24358012e-01, 2.10299170e-01, 6.43082789e-01,\n",
              "       3.12390710e-01, 2.19490872e-01, 8.08624167e-01, 6.42293240e-01,\n",
              "       2.37482989e-01, 7.07338061e-01, 6.54323506e-01, 7.18552324e-01,\n",
              "       1.10816299e-01, 7.07480540e-01, 2.46767248e-01, 4.59990067e-01,\n",
              "       2.00437374e-01, 2.32779643e-01, 4.97538375e-01, 9.42976193e-01,\n",
              "       1.98106134e-01, 5.91965341e-01, 3.11601266e-01, 4.94832244e-02,\n",
              "       8.78482283e-01, 5.34633102e-01, 2.26790598e-01, 8.26142147e-01,\n",
              "       3.65743324e-01, 8.77446211e-01, 3.09409693e-01, 4.55450425e-01,\n",
              "       8.72354202e-02, 7.42695407e-01, 7.19056763e-01, 4.00200966e-01,\n",
              "       8.01140789e-01, 8.24761481e-01, 1.00747638e-01, 6.28312183e-01,\n",
              "       1.75378804e-01, 3.28648145e-05, 5.01547339e-01, 9.20641702e-01,\n",
              "       7.34505110e-01, 6.87302781e-02, 6.38803374e-01, 6.83628724e-01,\n",
              "       2.16782442e-01, 6.66449234e-01, 5.51476769e-01, 8.62850557e-01,\n",
              "       4.94625970e-02, 2.99808927e-02, 5.99050672e-01, 6.90568152e-01,\n",
              "       1.84305476e-01, 1.30533760e-01, 9.72921426e-01, 7.06030124e-01,\n",
              "       7.94591749e-02, 2.88235907e-01, 6.80045007e-01, 4.06031397e-01,\n",
              "       2.03930194e-01, 8.31384772e-01, 6.31725342e-01, 7.36217839e-01,\n",
              "       2.39964496e-01, 7.53298407e-01, 5.34332068e-02, 7.79214395e-01,\n",
              "       7.99320264e-01, 2.13758080e-01, 2.15559398e-03, 8.71950350e-01,\n",
              "       3.11477029e-01, 4.98770808e-01, 2.54597632e-01, 1.42352712e-01,\n",
              "       1.38529792e-01, 9.65056003e-01, 4.47344282e-01, 6.56016333e-01,\n",
              "       9.19001990e-01, 2.55562141e-01, 4.27666199e-01, 2.69896597e-02,\n",
              "       1.07864616e-02, 4.90441621e-01, 1.45567798e-02, 2.02938325e-01,\n",
              "       2.47263347e-01, 2.76052604e-01, 1.60717647e-01, 1.68266870e-01,\n",
              "       2.91498510e-01, 6.52691288e-01, 1.62074095e-01, 9.27522072e-01,\n",
              "       7.01546369e-01, 9.74699859e-01, 8.29061441e-01, 3.15012532e-01,\n",
              "       9.22877034e-01, 2.65517027e-01, 4.79418200e-01, 7.41230086e-01,\n",
              "       3.61844400e-01, 1.80827537e-02, 9.82045286e-02, 2.91515749e-01,\n",
              "       6.51649968e-01, 5.99730407e-01, 8.96436044e-01, 2.91387850e-01,\n",
              "       9.73121301e-01, 1.38779558e-01, 8.09379826e-01, 7.88122053e-01,\n",
              "       8.86435728e-01, 5.48308466e-01, 5.35181187e-01, 9.12185343e-01,\n",
              "       3.50156137e-01, 8.49021346e-01, 6.78478778e-01, 3.89636349e-01,\n",
              "       3.26695261e-01, 5.09645150e-01, 3.76626024e-01, 8.59564148e-01,\n",
              "       8.41592620e-01, 8.80373644e-01, 1.04855430e-02, 1.70959968e-01,\n",
              "       9.87444074e-01, 8.58860927e-01, 7.12373722e-01, 3.20386515e-01,\n",
              "       9.48430539e-01, 3.94901622e-01, 6.32615154e-01, 9.18481095e-01,\n",
              "       6.17813379e-01, 4.20169150e-01, 8.99153636e-01, 2.05403604e-01,\n",
              "       6.90994992e-01, 9.10275858e-01, 7.55479957e-01, 2.80296923e-01,\n",
              "       1.67047341e-01, 9.86135014e-01, 6.81771784e-01, 8.19914308e-01,\n",
              "       3.27849068e-01, 9.19437217e-01, 9.58591770e-01, 1.20400290e-01,\n",
              "       7.64940483e-01, 4.39669225e-01, 6.90249403e-01, 4.38548937e-01,\n",
              "       7.24181747e-02, 9.05750444e-01, 9.14906075e-01, 2.66510141e-01,\n",
              "       3.82772465e-01, 9.81669209e-01, 7.42523572e-01, 2.69490518e-01,\n",
              "       4.56542579e-01, 3.58069207e-01, 2.15508540e-01, 1.58769885e-01,\n",
              "       2.95101492e-01, 6.54504236e-02, 2.27635839e-01, 2.15223558e-02,\n",
              "       4.63259290e-01, 5.79576581e-02, 8.54740387e-01, 9.05381438e-02,\n",
              "       1.59152127e-01, 1.23265241e-01, 2.20215736e-02, 2.56505419e-01,\n",
              "       7.45096079e-01, 1.91640796e-01, 1.02870897e-01, 5.46766208e-01,\n",
              "       8.75504526e-01, 9.21016423e-01, 8.35719486e-01, 4.87842958e-01,\n",
              "       6.15281369e-01, 2.40192778e-01, 9.41342593e-02, 1.35974287e-01,\n",
              "       4.36459046e-01, 6.50638708e-01, 7.44085046e-01, 8.66403541e-01,\n",
              "       3.45741877e-01, 3.94527118e-01, 9.19813544e-01, 6.17429548e-01,\n",
              "       2.29018045e-01, 2.12390778e-01, 3.71080406e-01, 5.10273877e-01,\n",
              "       8.72839475e-01, 9.30308363e-01, 8.43914656e-01, 8.58659818e-01,\n",
              "       3.46566904e-01, 1.63130924e-01, 7.12871408e-01, 5.73128375e-01,\n",
              "       6.25237637e-01, 6.75192042e-01, 3.62538229e-01, 1.85986464e-01,\n",
              "       8.09249449e-01, 8.23453987e-01, 3.57022993e-01, 1.33197405e-01,\n",
              "       7.13860665e-01, 1.29564685e-01, 4.27826928e-01, 6.96341848e-01,\n",
              "       8.18822053e-01, 2.08171655e-01, 1.61529272e-01, 4.73596652e-01,\n",
              "       9.03493698e-01, 4.75966529e-01, 5.76214921e-01, 7.50142228e-01,\n",
              "       6.94280138e-01, 2.36850053e-02, 4.25092208e-01, 9.39087592e-01,\n",
              "       1.60057984e-01, 9.13710943e-01, 8.53658367e-01, 6.90330972e-01,\n",
              "       3.24066846e-01, 8.31736897e-01, 7.81948783e-01, 4.75738524e-01,\n",
              "       2.08262811e-01, 9.93922740e-01, 1.47725191e-01, 5.45552666e-01,\n",
              "       3.37084163e-01, 6.54315548e-01, 7.59553675e-01, 4.43496495e-01,\n",
              "       2.38805137e-01, 1.27438288e-01, 8.78701025e-03, 3.40869031e-01,\n",
              "       7.41334466e-02, 1.87047439e-01, 4.29328992e-01, 6.84958587e-01,\n",
              "       2.41975691e-01, 6.57710054e-01, 8.59318989e-01, 4.15324964e-02,\n",
              "       7.95434477e-01, 9.03256488e-01, 6.21765928e-01, 6.30136219e-01,\n",
              "       2.93874940e-01, 8.19244562e-01, 7.01013354e-01, 1.71223026e-01,\n",
              "       1.51603878e-01, 8.19374935e-01, 3.16152618e-02, 4.84180503e-01,\n",
              "       7.07347555e-01, 4.45622657e-01, 3.51565158e-01, 2.44980491e-01,\n",
              "       4.89013679e-01, 4.05690619e-01, 5.85208976e-01, 8.21788538e-02,\n",
              "       9.82795723e-01, 7.20490316e-01, 3.87252023e-01, 2.60400729e-01,\n",
              "       6.78618302e-02, 1.30580719e-01, 8.67649002e-01, 8.55242259e-01,\n",
              "       3.38414721e-01, 5.80904241e-02, 7.92110936e-01, 7.51514579e-01,\n",
              "       7.04100820e-01, 2.09734848e-01, 1.53628585e-01, 5.09823851e-01,\n",
              "       3.40750685e-01, 1.44545515e-01, 9.32321166e-01, 8.11642523e-02,\n",
              "       7.74261958e-01, 9.40775098e-01, 5.00528026e-01, 2.19180823e-01,\n",
              "       3.89272371e-01, 6.60697930e-01, 8.16225155e-01, 5.45146148e-01,\n",
              "       5.88841144e-02, 1.90680254e-01, 7.03378394e-02, 7.22668846e-01,\n",
              "       2.58796026e-01, 1.22139546e-01, 3.24029091e-01, 5.64346881e-01,\n",
              "       3.52174329e-01, 6.45633226e-01, 4.63324249e-01, 3.54040186e-01,\n",
              "       8.43533478e-01, 7.09498524e-01, 1.19288606e-01, 6.57266845e-01,\n",
              "       2.38438686e-01, 2.79103888e-01, 5.31104482e-01, 2.87100400e-01,\n",
              "       4.72765871e-01, 9.66685009e-02, 2.75056432e-01, 5.36391517e-02,\n",
              "       3.20490103e-01, 6.19992807e-01, 3.25799086e-01, 6.05013431e-01,\n",
              "       6.82036180e-01, 7.04830927e-01, 7.52513529e-01, 8.12304610e-01,\n",
              "       8.45920253e-01, 3.85060501e-01, 6.09702246e-01, 2.98396504e-01,\n",
              "       1.96457801e-01, 6.63047723e-03, 9.37704736e-01, 9.68629319e-01,\n",
              "       6.81134844e-01, 8.16018195e-01, 8.82514734e-01, 7.96556432e-01,\n",
              "       2.36051380e-01, 5.90082412e-01, 7.66021916e-02, 7.78175621e-03,\n",
              "       1.09413403e-01, 1.70987097e-01, 3.02739827e-01, 3.39782950e-01,\n",
              "       7.84865813e-01, 3.89109266e-01, 6.68992143e-01, 6.06546003e-01,\n",
              "       2.10033420e-01, 6.44373832e-01, 2.21705389e-01, 7.72253531e-01,\n",
              "       5.48733811e-01, 7.47535933e-02, 3.12375660e-01, 6.31086665e-02,\n",
              "       5.58214867e-01, 9.52055199e-01, 1.75643568e-01, 7.83166775e-01,\n",
              "       2.14183850e-01, 6.78858793e-01, 7.98140543e-02, 8.27662625e-01,\n",
              "       6.80046645e-01, 8.45014653e-01, 8.59435127e-01, 7.55902206e-01,\n",
              "       8.23353126e-01, 9.19280713e-01, 2.46538675e-01, 2.65785868e-01,\n",
              "       6.48805569e-02, 6.52964529e-01, 7.10486728e-01, 8.72175177e-01,\n",
              "       6.43605485e-02, 2.87415141e-01, 6.58367094e-01, 6.13438562e-01,\n",
              "       3.80856496e-01, 6.60605996e-01, 3.71251949e-01, 6.81887939e-01,\n",
              "       8.19320647e-01, 8.75130369e-01, 4.12919262e-01, 6.75314679e-01,\n",
              "       3.59765260e-01, 9.34883116e-01, 5.44580684e-01, 8.83659346e-01,\n",
              "       9.57879301e-02, 5.45009588e-01, 5.71043064e-01, 3.54097026e-01,\n",
              "       1.28536782e-01, 5.87257472e-01, 1.65432376e-02, 9.72509960e-01,\n",
              "       2.81763200e-01, 9.66607984e-01, 9.89827642e-01, 3.30583015e-01,\n",
              "       9.86786415e-01, 8.61674015e-01, 6.71950769e-02, 3.92492218e-01,\n",
              "       5.63854418e-01, 3.22064074e-01, 9.05088832e-01, 6.09207346e-01,\n",
              "       1.14969872e-01, 2.30820471e-01, 5.15614879e-01, 7.07201942e-01,\n",
              "       7.24847310e-02, 9.73154012e-02, 1.85745492e-01, 5.15981119e-01,\n",
              "       4.76080509e-01, 5.13804199e-01, 4.51243507e-01, 8.04318923e-01,\n",
              "       2.75165096e-01, 2.40306207e-01, 6.99487587e-02, 5.26031115e-01,\n",
              "       9.30542309e-01, 6.62722557e-01, 2.42445006e-01, 3.40141419e-01,\n",
              "       6.06472638e-01, 5.05713218e-01, 2.26329656e-01, 2.41183529e-01,\n",
              "       1.86548449e-02, 2.95915384e-01, 9.07946699e-01, 3.02603619e-01,\n",
              "       2.57942540e-01, 9.54236616e-01, 7.47688890e-01, 5.46084405e-01,\n",
              "       7.31966821e-01, 1.15897131e-01, 5.09797708e-01, 5.65736195e-01,\n",
              "       6.66032769e-01, 2.52568097e-01, 5.21566095e-01, 5.61110570e-01])"
            ]
          },
          "metadata": {},
          "execution_count": 27
        }
      ]
    },
    {
      "cell_type": "code",
      "source": [
        "import matplotlib.pyplot as plt"
      ],
      "metadata": {
        "id": "OKhP8KU9wTFh"
      },
      "execution_count": 28,
      "outputs": []
    },
    {
      "cell_type": "code",
      "source": [
        "plt.hist(a)"
      ],
      "metadata": {
        "colab": {
          "base_uri": "https://localhost:8080/",
          "height": 517
        },
        "id": "jlpnr9xTwasm",
        "outputId": "26bdcbff-11f6-48e0-ce93-f4b4df48cb0c"
      },
      "execution_count": 29,
      "outputs": [
        {
          "output_type": "execute_result",
          "data": {
            "text/plain": [
              "(array([111.,  84., 113., 112.,  86.,  78., 109., 111., 105.,  91.]),\n",
              " array([3.28648145e-05, 9.99825811e-02, 1.99932297e-01, 2.99882014e-01,\n",
              "        3.99831730e-01, 4.99781446e-01, 5.99731163e-01, 6.99680879e-01,\n",
              "        7.99630595e-01, 8.99580312e-01, 9.99530028e-01]),\n",
              " <BarContainer object of 10 artists>)"
            ]
          },
          "metadata": {},
          "execution_count": 29
        },
        {
          "output_type": "display_data",
          "data": {
            "text/plain": [
              "<Figure size 640x480 with 1 Axes>"
            ],
            "image/png": "[encoded data removed]"
          },
          "metadata": {}
        }
      ]
    },
    {
      "cell_type": "code",
      "source": [
        "plt.hist(a, bins=100)"
      ],
      "metadata": {
        "colab": {
          "base_uri": "https://localhost:8080/",
          "height": 1000
        },
        "id": "Npy4rAZNweKB",
        "outputId": "bb67d7c7-d7ee-418c-b816-4a3684f7c21b"
      },
      "execution_count": 30,
      "outputs": [
        {
          "output_type": "execute_result",
          "data": {
            "text/plain": [
              "(array([12., 13.,  8.,  8., 12., 11., 12., 16.,  9., 10.,  7.,  6., 12.,\n",
              "        10.,  7.,  7.,  9.,  8.,  9.,  9., 12., 14., 12.,  9., 17., 11.,\n",
              "         7., 11., 10., 10.,  7., 12., 15.,  8., 11., 21.,  7., 12., 12.,\n",
              "         7.,  5.,  4., 11., 10.,  6.,  9.,  7., 12.,  9., 13.,  8.,  9.,\n",
              "         6.,  6., 16.,  7.,  7.,  6.,  4.,  9.,  8., 12.,  9., 11.,  7.,\n",
              "        17., 15.,  6., 13., 11., 16., 12., 10.,  8., 12., 14.,  5., 14.,\n",
              "        11.,  9.,  9., 12., 13.,  9.,  9., 14., 10., 17.,  9.,  3.,  9.,\n",
              "        12., 11., 13.,  8.,  6.,  6.,  4., 13.,  9.]),\n",
              " array([3.28648145e-05, 1.00278364e-02, 2.00228081e-02, 3.00177797e-02,\n",
              "        4.00127513e-02, 5.00077230e-02, 6.00026946e-02, 6.99976662e-02,\n",
              "        7.99926379e-02, 8.99876095e-02, 9.99825811e-02, 1.09977553e-01,\n",
              "        1.19972524e-01, 1.29967496e-01, 1.39962468e-01, 1.49957439e-01,\n",
              "        1.59952411e-01, 1.69947383e-01, 1.79942354e-01, 1.89937326e-01,\n",
              "        1.99932297e-01, 2.09927269e-01, 2.19922241e-01, 2.29917212e-01,\n",
              "        2.39912184e-01, 2.49907156e-01, 2.59902127e-01, 2.69897099e-01,\n",
              "        2.79892070e-01, 2.89887042e-01, 2.99882014e-01, 3.09876985e-01,\n",
              "        3.19871957e-01, 3.29866929e-01, 3.39861900e-01, 3.49856872e-01,\n",
              "        3.59851843e-01, 3.69846815e-01, 3.79841787e-01, 3.89836758e-01,\n",
              "        3.99831730e-01, 4.09826702e-01, 4.19821673e-01, 4.29816645e-01,\n",
              "        4.39811617e-01, 4.49806588e-01, 4.59801560e-01, 4.69796531e-01,\n",
              "        4.79791503e-01, 4.89786475e-01, 4.99781446e-01, 5.09776418e-01,\n",
              "        5.19771390e-01, 5.29766361e-01, 5.39761333e-01, 5.49756304e-01,\n",
              "        5.59751276e-01, 5.69746248e-01, 5.79741219e-01, 5.89736191e-01,\n",
              "        5.99731163e-01, 6.09726134e-01, 6.19721106e-01, 6.29716077e-01,\n",
              "        6.39711049e-01, 6.49706021e-01, 6.59700992e-01, 6.69695964e-01,\n",
              "        6.79690936e-01, 6.89685907e-01, 6.99680879e-01, 7.09675851e-01,\n",
              "        7.19670822e-01, 7.29665794e-01, 7.39660765e-01, 7.49655737e-01,\n",
              "        7.59650709e-01, 7.69645680e-01, 7.79640652e-01, 7.89635624e-01,\n",
              "        7.99630595e-01, 8.09625567e-01, 8.19620538e-01, 8.29615510e-01,\n",
              "        8.39610482e-01, 8.49605453e-01, 8.59600425e-01, 8.69595397e-01,\n",
              "        8.79590368e-01, 8.89585340e-01, 8.99580312e-01, 9.09575283e-01,\n",
              "        9.19570255e-01, 9.29565226e-01, 9.39560198e-01, 9.49555170e-01,\n",
              "        9.59550141e-01, 9.69545113e-01, 9.79540085e-01, 9.89535056e-01,\n",
              "        9.99530028e-01]),\n",
              " <BarContainer object of 100 artists>)"
            ]
          },
          "metadata": {},
          "execution_count": 30
        },
        {
          "output_type": "display_data",
          "data": {
            "text/plain": [
              "<Figure size 640x480 with 1 Axes>"
            ],
            "image/png": "[encoded data removed]"
          },
          "metadata": {}
        }
      ]
    },
    {
      "cell_type": "code",
      "source": [
        "b = np.random.randn(10000)\n",
        "plt.hist(b, bins=200)"
      ],
      "metadata": {
        "colab": {
          "base_uri": "https://localhost:8080/",
          "height": 1000
        },
        "id": "ef84WuIiwonC",
        "outputId": "e70d9b39-c315-4d2c-9d69-2856b4e9ce7b"
      },
      "execution_count": 32,
      "outputs": [
        {
          "output_type": "execute_result",
          "data": {
            "text/plain": [
              "(array([  1.,   0.,   0.,   0.,   0.,   0.,   0.,   0.,   0.,   0.,   0.,\n",
              "          0.,   0.,   0.,   0.,   0.,   0.,   0.,   0.,   0.,   2.,   0.,\n",
              "          0.,   0.,   0.,   0.,   0.,   1.,   1.,   2.,   1.,   3.,   1.,\n",
              "          1.,   3.,   0.,   2.,   7.,   5.,   3.,   3.,   3.,   4.,   5.,\n",
              "         11.,   4.,   9.,  14.,  12.,  11.,   8.,  12.,  12.,  16.,  18.,\n",
              "         25.,  16.,  27.,  39.,  20.,  28.,  28.,  24.,  25.,  43.,  44.,\n",
              "         46.,  47.,  53.,  53.,  62.,  52.,  68.,  61.,  60.,  86.,  91.,\n",
              "         76.,  81.,  75.,  93.,  94.,  91.,  99., 110., 122., 120., 125.,\n",
              "        130., 116., 120., 138., 143., 146., 140., 123., 146., 159., 175.,\n",
              "        153., 153., 183., 167., 184., 164., 171., 137., 167., 179., 175.,\n",
              "        170., 159., 161., 162., 155., 151., 149., 125., 149., 147., 128.,\n",
              "        145., 134., 113., 131., 112., 104., 125., 105.,  90.,  95.,  93.,\n",
              "         95.,  80.,  85.,  82.,  71.,  76.,  70.,  64.,  68.,  53.,  49.,\n",
              "         60.,  60.,  48.,  27.,  50.,  28.,  35.,  20.,  23.,  25.,  16.,\n",
              "         27.,  24.,  21.,  20.,  20.,  13.,  22.,  11.,  13.,  13.,  12.,\n",
              "         10.,  10.,   8.,   8.,   7.,   7.,   4.,   4.,   2.,   2.,   4.,\n",
              "          5.,   1.,   1.,   5.,   0.,   1.,   1.,   0.,   0.,   1.,   0.,\n",
              "          1.,   0.,   1.,   1.,   0.,   0.,   0.,   3.,   0.,   0.,   0.,\n",
              "          0.,   1.]),\n",
              " array([-4.27110091, -4.23069689, -4.19029286, -4.14988884, -4.10948482,\n",
              "        -4.06908079, -4.02867677, -3.98827274, -3.94786872, -3.90746469,\n",
              "        -3.86706067, -3.82665664, -3.78625262, -3.7458486 , -3.70544457,\n",
              "        -3.66504055, -3.62463652, -3.5842325 , -3.54382847, -3.50342445,\n",
              "        -3.46302042, -3.4226164 , -3.38221237, -3.34180835, -3.30140433,\n",
              "        -3.2610003 , -3.22059628, -3.18019225, -3.13978823, -3.0993842 ,\n",
              "        -3.05898018, -3.01857615, -2.97817213, -2.9377681 , -2.89736408,\n",
              "        -2.85696006, -2.81655603, -2.77615201, -2.73574798, -2.69534396,\n",
              "        -2.65493993, -2.61453591, -2.57413188, -2.53372786, -2.49332384,\n",
              "        -2.45291981, -2.41251579, -2.37211176, -2.33170774, -2.29130371,\n",
              "        -2.25089969, -2.21049566, -2.17009164, -2.12968761, -2.08928359,\n",
              "        -2.04887957, -2.00847554, -1.96807152, -1.92766749, -1.88726347,\n",
              "        -1.84685944, -1.80645542, -1.76605139, -1.72564737, -1.68524335,\n",
              "        -1.64483932, -1.6044353 , -1.56403127, -1.52362725, -1.48322322,\n",
              "        -1.4428192 , -1.40241517, -1.36201115, -1.32160712, -1.2812031 ,\n",
              "        -1.24079908, -1.20039505, -1.15999103, -1.119587  , -1.07918298,\n",
              "        -1.03877895, -0.99837493, -0.9579709 , -0.91756688, -0.87716285,\n",
              "        -0.83675883, -0.79635481, -0.75595078, -0.71554676, -0.67514273,\n",
              "        -0.63473871, -0.59433468, -0.55393066, -0.51352663, -0.47312261,\n",
              "        -0.43271859, -0.39231456, -0.35191054, -0.31150651, -0.27110249,\n",
              "        -0.23069846, -0.19029444, -0.14989041, -0.10948639, -0.06908236,\n",
              "        -0.02867834,  0.01172568,  0.05212971,  0.09253373,  0.13293776,\n",
              "         0.17334178,  0.21374581,  0.25414983,  0.29455386,  0.33495788,\n",
              "         0.3753619 ,  0.41576593,  0.45616995,  0.49657398,  0.536978  ,\n",
              "         0.57738203,  0.61778605,  0.65819008,  0.6985941 ,  0.73899813,\n",
              "         0.77940215,  0.81980617,  0.8602102 ,  0.90061422,  0.94101825,\n",
              "         0.98142227,  1.0218263 ,  1.06223032,  1.10263435,  1.14303837,\n",
              "         1.18344239,  1.22384642,  1.26425044,  1.30465447,  1.34505849,\n",
              "         1.38546252,  1.42586654,  1.46627057,  1.50667459,  1.54707862,\n",
              "         1.58748264,  1.62788666,  1.66829069,  1.70869471,  1.74909874,\n",
              "         1.78950276,  1.82990679,  1.87031081,  1.91071484,  1.95111886,\n",
              "         1.99152289,  2.03192691,  2.07233093,  2.11273496,  2.15313898,\n",
              "         2.19354301,  2.23394703,  2.27435106,  2.31475508,  2.35515911,\n",
              "         2.39556313,  2.43596715,  2.47637118,  2.5167752 ,  2.55717923,\n",
              "         2.59758325,  2.63798728,  2.6783913 ,  2.71879533,  2.75919935,\n",
              "         2.79960338,  2.8400074 ,  2.88041142,  2.92081545,  2.96121947,\n",
              "         3.0016235 ,  3.04202752,  3.08243155,  3.12283557,  3.1632396 ,\n",
              "         3.20364362,  3.24404764,  3.28445167,  3.32485569,  3.36525972,\n",
              "         3.40566374,  3.44606777,  3.48647179,  3.52687582,  3.56727984,\n",
              "         3.60768387,  3.64808789,  3.68849191,  3.72889594,  3.76929996,\n",
              "         3.80970399]),\n",
              " <BarContainer object of 200 artists>)"
            ]
          },
          "metadata": {},
          "execution_count": 32
        },
        {
          "output_type": "display_data",
          "data": {
            "text/plain": [
              "<Figure size 640x480 with 1 Axes>"
            ],
            "image/png": "[encoded data removed]"
          },
          "metadata": {}
        }
      ]
    },
    {
      "cell_type": "code",
      "source": [
        "c = np.random.rand(2,3)"
      ],
      "metadata": {
        "id": "zhNZFa_7w0zy"
      },
      "execution_count": 33,
      "outputs": []
    },
    {
      "cell_type": "code",
      "source": [
        "c"
      ],
      "metadata": {
        "colab": {
          "base_uri": "https://localhost:8080/"
        },
        "id": "m8U_ARiow321",
        "outputId": "de8159b9-d1d5-4959-e7ee-5d1c2f024cea"
      },
      "execution_count": 34,
      "outputs": [
        {
          "output_type": "execute_result",
          "data": {
            "text/plain": [
              "array([[0.23118996, 0.52612893, 0.60570212],\n",
              "       [0.011509  , 0.6551039 , 0.57032746]])"
            ]
          },
          "metadata": {},
          "execution_count": 34
        }
      ]
    },
    {
      "cell_type": "code",
      "source": [
        "c.ndim"
      ],
      "metadata": {
        "colab": {
          "base_uri": "https://localhost:8080/"
        },
        "id": "OYhQ05nyw5hz",
        "outputId": "a0f765ea-7a5a-4d7a-b74c-7dd46312e2d9"
      },
      "execution_count": 35,
      "outputs": [
        {
          "output_type": "execute_result",
          "data": {
            "text/plain": [
              "2"
            ]
          },
          "metadata": {},
          "execution_count": 35
        }
      ]
    },
    {
      "cell_type": "code",
      "source": [
        "c = np.random.rand(2,3,4,2)"
      ],
      "metadata": {
        "id": "CAp3EkFaw7Lc"
      },
      "execution_count": 36,
      "outputs": []
    },
    {
      "cell_type": "code",
      "source": [
        "c"
      ],
      "metadata": {
        "colab": {
          "base_uri": "https://localhost:8080/"
        },
        "id": "FCqXNFi8w9y8",
        "outputId": "b28808d8-3d61-41cf-fbc6-11cde72d2ba8"
      },
      "execution_count": 37,
      "outputs": [
        {
          "output_type": "execute_result",
          "data": {
            "text/plain": [
              "array([[[[0.03421115, 0.09506908],\n",
              "         [0.15134483, 0.79805947],\n",
              "         [0.61255874, 0.39615551],\n",
              "         [0.59904383, 0.73589901]],\n",
              "\n",
              "        [[0.43693559, 0.09798552],\n",
              "         [0.33969202, 0.35478372],\n",
              "         [0.77509466, 0.06989836],\n",
              "         [0.08895655, 0.90811492]],\n",
              "\n",
              "        [[0.14739594, 0.99977289],\n",
              "         [0.83259624, 0.88401155],\n",
              "         [0.32984797, 0.00221295],\n",
              "         [0.47076978, 0.85688766]]],\n",
              "\n",
              "\n",
              "       [[[0.16517444, 0.24332882],\n",
              "         [0.79080825, 0.60561641],\n",
              "         [0.71337292, 0.64275041],\n",
              "         [0.90885153, 0.43684212]],\n",
              "\n",
              "        [[0.39258888, 0.38979213],\n",
              "         [0.32110097, 0.70162671],\n",
              "         [0.35902728, 0.77968138],\n",
              "         [0.85395188, 0.69559347]],\n",
              "\n",
              "        [[0.03236479, 0.00636438],\n",
              "         [0.53750072, 0.47284386],\n",
              "         [0.93468558, 0.03447676],\n",
              "         [0.17574294, 0.82579654]]]])"
            ]
          },
          "metadata": {},
          "execution_count": 37
        }
      ]
    },
    {
      "cell_type": "code",
      "source": [
        "c.ndim"
      ],
      "metadata": {
        "colab": {
          "base_uri": "https://localhost:8080/"
        },
        "id": "iX6WR0l2w-7a",
        "outputId": "a97b9db7-a5e7-4dc1-8f20-c7db7415a996"
      },
      "execution_count": 38,
      "outputs": [
        {
          "output_type": "execute_result",
          "data": {
            "text/plain": [
              "4"
            ]
          },
          "metadata": {},
          "execution_count": 38
        }
      ]
    },
    {
      "cell_type": "code",
      "source": [
        "d = np.arange(100).reshape(4,25)"
      ],
      "metadata": {
        "id": "tkDEYBd2xTrI"
      },
      "execution_count": 40,
      "outputs": []
    },
    {
      "cell_type": "code",
      "source": [
        "d"
      ],
      "metadata": {
        "colab": {
          "base_uri": "https://localhost:8080/"
        },
        "id": "qYzGfvhpxgc_",
        "outputId": "a2756fc9-8bac-4e75-e097-e819cc1f5c5b"
      },
      "execution_count": 43,
      "outputs": [
        {
          "output_type": "execute_result",
          "data": {
            "text/plain": [
              "array([[ 0,  1,  2,  3,  4,  5,  6,  7,  8,  9, 10, 11, 12, 13, 14, 15,\n",
              "        16, 17, 18, 19, 20, 21, 22, 23, 24],\n",
              "       [25, 26, 27, 28, 29, 30, 31, 32, 33, 34, 35, 36, 37, 38, 39, 40,\n",
              "        41, 42, 43, 44, 45, 46, 47, 48, 49],\n",
              "       [50, 51, 52, 53, 54, 55, 56, 57, 58, 59, 60, 61, 62, 63, 64, 65,\n",
              "        66, 67, 68, 69, 70, 71, 72, 73, 74],\n",
              "       [75, 76, 77, 78, 79, 80, 81, 82, 83, 84, 85, 86, 87, 88, 89, 90,\n",
              "        91, 92, 93, 94, 95, 96, 97, 98, 99]])"
            ]
          },
          "metadata": {},
          "execution_count": 43
        }
      ]
    },
    {
      "cell_type": "code",
      "source": [
        "d.ndim"
      ],
      "metadata": {
        "colab": {
          "base_uri": "https://localhost:8080/"
        },
        "id": "JyTWXMvGxq25",
        "outputId": "aa7638f3-763a-4452-897a-ced53b60b4da"
      },
      "execution_count": 44,
      "outputs": [
        {
          "output_type": "execute_result",
          "data": {
            "text/plain": [
              "2"
            ]
          },
          "metadata": {},
          "execution_count": 44
        }
      ]
    },
    {
      "cell_type": "code",
      "source": [
        "d= np.arange(100).reshape(4,5,5)"
      ],
      "metadata": {
        "id": "maiIB5_kxtj2"
      },
      "execution_count": 49,
      "outputs": []
    },
    {
      "cell_type": "code",
      "source": [
        "d"
      ],
      "metadata": {
        "colab": {
          "base_uri": "https://localhost:8080/"
        },
        "id": "mT9qBVQ-x1Fg",
        "outputId": "cd69f4de-677d-446f-bb49-28ae5eb6a0e2"
      },
      "execution_count": 50,
      "outputs": [
        {
          "output_type": "execute_result",
          "data": {
            "text/plain": [
              "array([[[ 0,  1,  2,  3,  4],\n",
              "        [ 5,  6,  7,  8,  9],\n",
              "        [10, 11, 12, 13, 14],\n",
              "        [15, 16, 17, 18, 19],\n",
              "        [20, 21, 22, 23, 24]],\n",
              "\n",
              "       [[25, 26, 27, 28, 29],\n",
              "        [30, 31, 32, 33, 34],\n",
              "        [35, 36, 37, 38, 39],\n",
              "        [40, 41, 42, 43, 44],\n",
              "        [45, 46, 47, 48, 49]],\n",
              "\n",
              "       [[50, 51, 52, 53, 54],\n",
              "        [55, 56, 57, 58, 59],\n",
              "        [60, 61, 62, 63, 64],\n",
              "        [65, 66, 67, 68, 69],\n",
              "        [70, 71, 72, 73, 74]],\n",
              "\n",
              "       [[75, 76, 77, 78, 79],\n",
              "        [80, 81, 82, 83, 84],\n",
              "        [85, 86, 87, 88, 89],\n",
              "        [90, 91, 92, 93, 94],\n",
              "        [95, 96, 97, 98, 99]]])"
            ]
          },
          "metadata": {},
          "execution_count": 50
        }
      ]
    }
  ]
}