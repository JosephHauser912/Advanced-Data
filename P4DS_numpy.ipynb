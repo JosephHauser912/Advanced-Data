{
  "nbformat": 4,
  "nbformat_minor": 0,
  "metadata": {
    "colab": {
      "provenance": [],
      "authorship_tag": "ABX9TyNyIVc2qZ3XwABdYxdeKMkf",
      "include_colab_link": true
    },
    "kernelspec": {
      "name": "python3",
      "display_name": "Python 3"
    },
    "language_info": {
      "name": "python"
    }
  },
  "cells": [
    {
      "cell_type": "markdown",
      "metadata": {
        "id": "view-in-github",
        "colab_type": "text"
      },
      "source": [
        "<a href=\"https://colab.research.google.com/github/JosephHauser912/Advanced-Data/blob/main/P4DS_numpy.ipynb\" target=\"_parent\"><img src=\"https://colab.research.google.com/assets/colab-badge.svg\" alt=\"Open In Colab\"/></a>"
      ]
    },
    {
      "cell_type": "code",
      "execution_count": 3,
      "metadata": {
        "colab": {
          "base_uri": "https://localhost:8080/"
        },
        "id": "Vvee56qoz5Ce",
        "outputId": "6818e471-af5f-4092-935f-4bf2e2a6caba"
      },
      "outputs": [
        {
          "output_type": "stream",
          "name": "stdout",
          "text": [
            "[[2700 3000 3000]\n",
            " [2600 2800 2800]\n",
            " [2300 2500 2500]]\n"
          ]
        }
      ],
      "source": [
        "import numpy as np\n",
        "jeff_salary = [2700,3000,3000]\n",
        "nick_salary = [2600,2800,2800]\n",
        "tom_salary = [2300,2500,2500]\n",
        "base_salary = np.array([jeff_salary, nick_salary,tom_salary])\n",
        "print(base_salary)"
      ]
    },
    {
      "cell_type": "code",
      "source": [
        "jeff_bonus = [500,400,400]\n",
        "nick_bonus = [600,300,400]\n",
        "tom_bonus = [200,500,400]\n",
        "bonus = np.array([jeff_bonus, nick_bonus, tom_bonus])\n",
        "print(bonus)"
      ],
      "metadata": {
        "colab": {
          "base_uri": "https://localhost:8080/"
        },
        "id": "CJ7r6x6o0epS",
        "outputId": "5aac921c-3790-4cca-d0c9-a7091ba44cce"
      },
      "execution_count": 6,
      "outputs": [
        {
          "output_type": "stream",
          "name": "stdout",
          "text": [
            "[[500 400 400]\n",
            " [600 300 400]\n",
            " [200 500 400]]\n"
          ]
        }
      ]
    },
    {
      "cell_type": "code",
      "source": [
        "salary_bonus = base_salary + bonus\n",
        "print(type(salary_bonus))\n",
        "print(salary_bonus)"
      ],
      "metadata": {
        "colab": {
          "base_uri": "https://localhost:8080/"
        },
        "id": "al9RNDOl0_2_",
        "outputId": "0f017846-3bab-48cb-bef6-654195db004c"
      },
      "execution_count": 7,
      "outputs": [
        {
          "output_type": "stream",
          "name": "stdout",
          "text": [
            "<class 'numpy.ndarray'>\n",
            "[[3200 3400 3400]\n",
            " [3200 3100 3200]\n",
            " [2500 3000 2900]]\n"
          ]
        }
      ]
    },
    {
      "cell_type": "code",
      "source": [
        "print(salary_bonus.max())"
      ],
      "metadata": {
        "colab": {
          "base_uri": "https://localhost:8080/"
        },
        "id": "oFH7XcBo1KTd",
        "outputId": "03f98efd-ad1f-49ab-eeac-7af4cbf4d2c7"
      },
      "execution_count": 9,
      "outputs": [
        {
          "output_type": "stream",
          "name": "stdout",
          "text": [
            "3400\n"
          ]
        }
      ]
    },
    {
      "cell_type": "code",
      "source": [
        "print(np.amax(salary_bonus, axis = 0))"
      ],
      "metadata": {
        "colab": {
          "base_uri": "https://localhost:8080/"
        },
        "id": "IO2orVSCMKTw",
        "outputId": "3275cdd4-dce7-44c6-b1e5-0de6cc5c0509"
      },
      "execution_count": 11,
      "outputs": [
        {
          "output_type": "stream",
          "name": "stdout",
          "text": [
            "[3200 3400 3400]\n"
          ]
        }
      ]
    }
  ]
}