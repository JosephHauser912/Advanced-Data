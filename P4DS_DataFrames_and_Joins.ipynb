{
  "nbformat": 4,
  "nbformat_minor": 0,
  "metadata": {
    "colab": {
      "provenance": [],
      "authorship_tag": "ABX9TyOsoN5QPvN+2N2XR9HUrIoj",
      "include_colab_link": true
    },
    "kernelspec": {
      "name": "python3",
      "display_name": "Python 3"
    },
    "language_info": {
      "name": "python"
    }
  },
  "cells": [
    {
      "cell_type": "markdown",
      "metadata": {
        "id": "view-in-github",
        "colab_type": "text"
      },
      "source": [
        "<a href=\"https://colab.research.google.com/github/JosephHauser912/Advanced-Data/blob/main/P4DS_DataFrames_and_Joins.ipynb\" target=\"_parent\"><img src=\"https://colab.research.google.com/assets/colab-badge.svg\" alt=\"Open In Colab\"/></a>"
      ]
    },
    {
      "cell_type": "code",
      "execution_count": 1,
      "metadata": {
        "id": "kXMQJ8yhQhbS"
      },
      "outputs": [],
      "source": [
        "import json\n",
        "import pandas as pd\n",
        "data = [\n",
        "    {\"empno\":9001, \"Salary\":3000},\n",
        "    {\"empno\":9002, \"Salary\":2800},\n",
        "    {\"empno\":9003, \"Salary\":2500},\n",
        "]"
      ]
    },
    {
      "cell_type": "code",
      "source": [
        "json_data = json.dumps(data)"
      ],
      "metadata": {
        "id": "GymJg0z9Q0eQ"
      },
      "execution_count": 2,
      "outputs": []
    },
    {
      "cell_type": "code",
      "source": [
        "salary = pd.read_json(json_data)\n",
        "salary = salary.set_index('empno')\n",
        "\n",
        "print(salary)"
      ],
      "metadata": {
        "colab": {
          "base_uri": "https://localhost:8080/"
        },
        "id": "_ouvSz1fQ46v",
        "outputId": "e10e29be-f7af-4add-e94e-b653e8f9fd38"
      },
      "execution_count": 3,
      "outputs": [
        {
          "output_type": "stream",
          "name": "stdout",
          "text": [
            "       Salary\n",
            "empno        \n",
            "9001     3000\n",
            "9002     2800\n",
            "9003     2500\n"
          ]
        }
      ]
    },
    {
      "cell_type": "code",
      "source": [
        "data = [['9001','Jeff Russell', 'sales'],\n",
        "        ['9002','Jane Boorman', 'sales'],\n",
        "        ['9003','Tom Heints', 'sales']\n",
        "        ]\n",
        "emps = pd.DataFrame(data, columns = ['Empno', 'Name', 'Job'])\n",
        "column_types = {'Empno': int, 'Name': str, 'Job':str}\n",
        "emps = emps.astype(column_types)\n",
        "emps = emps.set_index('Empno')\n",
        "print(emps)"
      ],
      "metadata": {
        "colab": {
          "base_uri": "https://localhost:8080/"
        },
        "id": "RIlbJW32D8qo",
        "outputId": "9ab6782e-83b1-4957-992e-79c576cca6d2"
      },
      "execution_count": 4,
      "outputs": [
        {
          "output_type": "stream",
          "name": "stdout",
          "text": [
            "               Name    Job\n",
            "Empno                     \n",
            "9001   Jeff Russell  sales\n",
            "9002   Jane Boorman  sales\n",
            "9003     Tom Heints  sales\n"
          ]
        }
      ]
    },
    {
      "cell_type": "code",
      "source": [
        "emps_salary = emps.join(salary)\n",
        "print(emps_salary)"
      ],
      "metadata": {
        "colab": {
          "base_uri": "https://localhost:8080/"
        },
        "id": "HRshHupwE8bs",
        "outputId": "d072bfb4-4799-4c98-8919-e1af5ef3eb8e"
      },
      "execution_count": 5,
      "outputs": [
        {
          "output_type": "stream",
          "name": "stdout",
          "text": [
            "               Name    Job  Salary\n",
            "Empno                             \n",
            "9001   Jeff Russell  sales    3000\n",
            "9002   Jane Boorman  sales    2800\n",
            "9003     Tom Heints  sales    2500\n"
          ]
        }
      ]
    },
    {
      "cell_type": "code",
      "source": [
        "new_emp = pd.Series({'Name':'John Hardy', 'Job': 'sales'}, name = 9004)\n",
        "emps = emps.append(new_emp)\n",
        "[print(emps)]"
      ],
      "metadata": {
        "colab": {
          "base_uri": "https://localhost:8080/"
        },
        "id": "TtQROEpPEcdO",
        "outputId": "bec0e482-a1ab-4da0-f3a2-490d55676bf3"
      },
      "execution_count": 6,
      "outputs": [
        {
          "output_type": "stream",
          "name": "stdout",
          "text": [
            "               Name    Job\n",
            "Empno                     \n",
            "9001   Jeff Russell  sales\n",
            "9002   Jane Boorman  sales\n",
            "9003     Tom Heints  sales\n",
            "9004     John Hardy  sales\n"
          ]
        },
        {
          "output_type": "stream",
          "name": "stderr",
          "text": [
            "<ipython-input-6-b601e8f0933c>:2: FutureWarning: The frame.append method is deprecated and will be removed from pandas in a future version. Use pandas.concat instead.\n",
            "  emps = emps.append(new_emp)\n"
          ]
        },
        {
          "output_type": "execute_result",
          "data": {
            "text/plain": [
              "[None]"
            ]
          },
          "metadata": {},
          "execution_count": 6
        }
      ]
    },
    {
      "cell_type": "code",
      "source": [
        "emps_salary = emps.join(salary)\n",
        "print(emps_salary)"
      ],
      "metadata": {
        "colab": {
          "base_uri": "https://localhost:8080/"
        },
        "id": "ldqakg4SFp4H",
        "outputId": "4b8e1b4c-1083-47a8-ea94-32e5b9dee548"
      },
      "execution_count": 7,
      "outputs": [
        {
          "output_type": "stream",
          "name": "stdout",
          "text": [
            "               Name    Job  Salary\n",
            "Empno                             \n",
            "9001   Jeff Russell  sales  3000.0\n",
            "9002   Jane Boorman  sales  2800.0\n",
            "9003     Tom Heints  sales  2500.0\n",
            "9004     John Hardy  sales     NaN\n"
          ]
        }
      ]
    },
    {
      "cell_type": "code",
      "source": [
        "emps_salary = emps.join(salary, how = 'left')\n",
        "print(emps_salary)"
      ],
      "metadata": {
        "colab": {
          "base_uri": "https://localhost:8080/"
        },
        "id": "4XVF-pkEGKvs",
        "outputId": "558c6b3d-9664-4c32-a1f9-e0855229ffdc"
      },
      "execution_count": 8,
      "outputs": [
        {
          "output_type": "stream",
          "name": "stdout",
          "text": [
            "               Name    Job  Salary\n",
            "Empno                             \n",
            "9001   Jeff Russell  sales  3000.0\n",
            "9002   Jane Boorman  sales  2800.0\n",
            "9003     Tom Heints  sales  2500.0\n",
            "9004     John Hardy  sales     NaN\n"
          ]
        }
      ]
    },
    {
      "cell_type": "code",
      "source": [
        "new_emp2 = pd.Series({'Name':'', 'Job': 'Comedian'}, name = 9005 )\n",
        "emps = emps.append(new_emp2)\n",
        "print(emps)\n",
        "emps_salary = emps.join(salary, how = 'left')\n",
        "print(emps_salary)"
      ],
      "metadata": {
        "colab": {
          "base_uri": "https://localhost:8080/"
        },
        "id": "zbC131PaGpWh",
        "outputId": "15e1fd6f-542a-4f6e-b993-0c749889d624"
      },
      "execution_count": 9,
      "outputs": [
        {
          "output_type": "stream",
          "name": "stdout",
          "text": [
            "               Name       Job\n",
            "Empno                        \n",
            "9001   Jeff Russell     sales\n",
            "9002   Jane Boorman     sales\n",
            "9003     Tom Heints     sales\n",
            "9004     John Hardy     sales\n",
            "9005                 Comedian\n",
            "               Name       Job  Salary\n",
            "Empno                                \n",
            "9001   Jeff Russell     sales  3000.0\n",
            "9002   Jane Boorman     sales  2800.0\n",
            "9003     Tom Heints     sales  2500.0\n",
            "9004     John Hardy     sales     NaN\n",
            "9005                 Comedian     NaN\n"
          ]
        },
        {
          "output_type": "stream",
          "name": "stderr",
          "text": [
            "<ipython-input-9-12177ad00c62>:2: FutureWarning: The frame.append method is deprecated and will be removed from pandas in a future version. Use pandas.concat instead.\n",
            "  emps = emps.append(new_emp2)\n"
          ]
        }
      ]
    },
    {
      "cell_type": "code",
      "source": [
        "data = [[2608,9001,35],[2617,9001,35],[2620,9001,139],[2621,9002,95,],[2626,9002,218]]\n",
        "orders= pd.DataFrame(data, columns = ['Pono', 'Empno', 'Total'])\n",
        "print(orders)"
      ],
      "metadata": {
        "colab": {
          "base_uri": "https://localhost:8080/"
        },
        "id": "7dwOxjldAF8b",
        "outputId": "a024bfa7-2a4d-4853-f6db-ac4cccfefbd0"
      },
      "execution_count": 12,
      "outputs": [
        {
          "output_type": "stream",
          "name": "stdout",
          "text": [
            "   Pono  Empno  Total\n",
            "0  2608   9001     35\n",
            "1  2617   9001     35\n",
            "2  2620   9001    139\n",
            "3  2621   9002     95\n",
            "4  2626   9002    218\n"
          ]
        }
      ]
    },
    {
      "cell_type": "code",
      "source": [
        "emps_orders = emps.merge(orders, how='inner', left_on= 'Empno', right_on='Empno').set_index('Pono')\n",
        "print(emps_orders)"
      ],
      "metadata": {
        "colab": {
          "base_uri": "https://localhost:8080/"
        },
        "id": "G2a8z91jA1DW",
        "outputId": "2a84f1cf-ea5c-492a-e86a-6f8e21c08772"
      },
      "execution_count": 13,
      "outputs": [
        {
          "output_type": "stream",
          "name": "stdout",
          "text": [
            "      Empno          Name    Job  Total\n",
            "Pono                                   \n",
            "2608   9001  Jeff Russell  sales     35\n",
            "2617   9001  Jeff Russell  sales     35\n",
            "2620   9001  Jeff Russell  sales    139\n",
            "2621   9002  Jane Boorman  sales     95\n",
            "2626   9002  Jane Boorman  sales    218\n"
          ]
        }
      ]
    },
    {
      "cell_type": "code",
      "source": [
        "print(orders.groupby(['Empno'])['Total'].mean())"
      ],
      "metadata": {
        "colab": {
          "base_uri": "https://localhost:8080/"
        },
        "id": "r5WqED1rBj9A",
        "outputId": "e5e54322-dd76-40cf-a837-9b1e5bfc04ed"
      },
      "execution_count": 14,
      "outputs": [
        {
          "output_type": "stream",
          "name": "stdout",
          "text": [
            "Empno\n",
            "9001     69.666667\n",
            "9002    156.500000\n",
            "Name: Total, dtype: float64\n"
          ]
        }
      ]
    },
    {
      "cell_type": "code",
      "source": [
        "print(orders.groupby(['Empno'])['Total'].sum())"
      ],
      "metadata": {
        "colab": {
          "base_uri": "https://localhost:8080/"
        },
        "id": "2N9WrDYMCGyk",
        "outputId": "a97acbb0-0be3-46ed-b656-0b28e42225bb"
      },
      "execution_count": 15,
      "outputs": [
        {
          "output_type": "stream",
          "name": "stdout",
          "text": [
            "Empno\n",
            "9001    209\n",
            "9002    313\n",
            "Name: Total, dtype: int64\n"
          ]
        }
      ]
    }
  ]
}