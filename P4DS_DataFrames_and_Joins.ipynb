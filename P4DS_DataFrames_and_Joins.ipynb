{
  "nbformat": 4,
  "nbformat_minor": 0,
  "metadata": {
    "colab": {
      "provenance": [],
      "authorship_tag": "ABX9TyNr1L998TnDE/qAa8lg1Lrs",
      "include_colab_link": true
    },
    "kernelspec": {
      "name": "python3",
      "display_name": "Python 3"
    },
    "language_info": {
      "name": "python"
    }
  },
  "cells": [
    {
      "cell_type": "markdown",
      "metadata": {
        "id": "view-in-github",
        "colab_type": "text"
      },
      "source": [
        "<a href=\"https://colab.research.google.com/github/JosephHauser912/Advanced-Data/blob/main/P4DS_DataFrames_and_Joins.ipynb\" target=\"_parent\"><img src=\"https://colab.research.google.com/assets/colab-badge.svg\" alt=\"Open In Colab\"/></a>"
      ]
    },
    {
      "cell_type": "code",
      "execution_count": 4,
      "metadata": {
        "id": "kXMQJ8yhQhbS"
      },
      "outputs": [],
      "source": [
        "import json\n",
        "import pandas as pd\n",
        "data = [\n",
        "    {\"empno\":9001, \"Salary\":3000},\n",
        "    {\"empno\":9002, \"Salary\":2800},\n",
        "    {\"empno\":9003, \"Salary\":2500},\n",
        "]"
      ]
    },
    {
      "cell_type": "code",
      "source": [
        "json_data = json.dumps(data)"
      ],
      "metadata": {
        "id": "GymJg0z9Q0eQ"
      },
      "execution_count": 5,
      "outputs": []
    },
    {
      "cell_type": "code",
      "source": [
        "salary = pd.read_json(json_data)\n",
        "salary = salary.set_index('empno')\n",
        "\n",
        "print(salary)"
      ],
      "metadata": {
        "colab": {
          "base_uri": "https://localhost:8080/"
        },
        "id": "_ouvSz1fQ46v",
        "outputId": "70cf3cc7-b69e-44f4-cd57-9272071abb3d"
      },
      "execution_count": 6,
      "outputs": [
        {
          "output_type": "stream",
          "name": "stdout",
          "text": [
            "       Salary\n",
            "empno        \n",
            "9001     3000\n",
            "9002     2800\n",
            "9003     2500\n"
          ]
        }
      ]
    },
    {
      "cell_type": "code",
      "source": [
        "data = [['9001','Jeff Russell', 'sales'],\n",
        "        ['9002','Jane Boorman', 'sales'],\n",
        "        ['9003','Tom Heints', 'sales']\n",
        "        ]\n",
        "emps = pd.DataFrame(data, columns = ['Empno', 'Name', 'Job'])\n",
        "column_types = {'Empno': int, 'Name': str, 'Job':str}\n",
        "emps = emps.astype(column_types)\n",
        "emps = emps.set_index('Empno')\n",
        "print(emps)"
      ],
      "metadata": {
        "colab": {
          "base_uri": "https://localhost:8080/"
        },
        "id": "RIlbJW32D8qo",
        "outputId": "540d43e7-3f7f-4f96-af3c-8e485d1e8a93"
      },
      "execution_count": 10,
      "outputs": [
        {
          "output_type": "stream",
          "name": "stdout",
          "text": [
            "               Name    Job\n",
            "Empno                     \n",
            "9001   Jeff Russell  sales\n",
            "9002   Jane Boorman  sales\n",
            "9003     Tom Heints  sales\n"
          ]
        }
      ]
    },
    {
      "cell_type": "code",
      "source": [
        "emps_salary = emps.join(salary)\n",
        "print(emps_salary)"
      ],
      "metadata": {
        "colab": {
          "base_uri": "https://localhost:8080/"
        },
        "id": "HRshHupwE8bs",
        "outputId": "97602b07-bd85-4dd5-c579-0d49dec2da23"
      },
      "execution_count": 11,
      "outputs": [
        {
          "output_type": "stream",
          "name": "stdout",
          "text": [
            "               Name    Job  Salary\n",
            "Empno                             \n",
            "9001   Jeff Russell  sales    3000\n",
            "9002   Jane Boorman  sales    2800\n",
            "9003     Tom Heints  sales    2500\n"
          ]
        }
      ]
    },
    {
      "cell_type": "code",
      "source": [
        "new_emp = pd.Series({'Name':'John Hardy', 'Job': 'sales'}, name = 9004)\n",
        "emps = emps.append(new_emp)\n",
        "[print(emps)]"
      ],
      "metadata": {
        "colab": {
          "base_uri": "https://localhost:8080/"
        },
        "id": "TtQROEpPEcdO",
        "outputId": "fa468945-a4cd-4c42-83d0-16f384ca76ee"
      },
      "execution_count": 15,
      "outputs": [
        {
          "output_type": "stream",
          "name": "stdout",
          "text": [
            "               Name    Job\n",
            "Empno                     \n",
            "9001   Jeff Russell  sales\n",
            "9002   Jane Boorman  sales\n",
            "9003     Tom Heints  sales\n",
            "9004     John Hardy  sales\n",
            "9004     John Hardy  sales\n"
          ]
        },
        {
          "output_type": "stream",
          "name": "stderr",
          "text": [
            "<ipython-input-15-b601e8f0933c>:2: FutureWarning: The frame.append method is deprecated and will be removed from pandas in a future version. Use pandas.concat instead.\n",
            "  emps = emps.append(new_emp)\n"
          ]
        },
        {
          "output_type": "execute_result",
          "data": {
            "text/plain": [
              "[None]"
            ]
          },
          "metadata": {},
          "execution_count": 15
        }
      ]
    },
    {
      "cell_type": "code",
      "source": [
        "emps_salary = emps.join(salary)\n",
        "print(emps_salary)"
      ],
      "metadata": {
        "colab": {
          "base_uri": "https://localhost:8080/"
        },
        "id": "ldqakg4SFp4H",
        "outputId": "f86db5bf-45d2-432b-fd1e-785738e4919e"
      },
      "execution_count": 16,
      "outputs": [
        {
          "output_type": "stream",
          "name": "stdout",
          "text": [
            "              Name    Job  Salary\n",
            "9001  Jeff Russell  sales  3000.0\n",
            "9002  Jane Boorman  sales  2800.0\n",
            "9003    Tom Heints  sales  2500.0\n",
            "9004    John Hardy  sales     NaN\n",
            "9004    John Hardy  sales     NaN\n"
          ]
        }
      ]
    },
    {
      "cell_type": "code",
      "source": [
        "emps_salary = emps.join(salary, how = 'left')\n",
        "print(emps_salary)"
      ],
      "metadata": {
        "colab": {
          "base_uri": "https://localhost:8080/"
        },
        "id": "4XVF-pkEGKvs",
        "outputId": "71446a47-9d8f-4de9-ea93-572d246cac47"
      },
      "execution_count": 20,
      "outputs": [
        {
          "output_type": "stream",
          "name": "stdout",
          "text": [
            "              Name    Job  Salary\n",
            "9001  Jeff Russell  sales  3000.0\n",
            "9002  Jane Boorman  sales  2800.0\n",
            "9003    Tom Heints  sales  2500.0\n",
            "9004    John Hardy  sales     NaN\n",
            "9004    John Hardy  sales     NaN\n"
          ]
        }
      ]
    },
    {
      "cell_type": "code",
      "source": [
        "new_emp2 = pd.Series({'Name':'', 'Job': 'Comedian'}, name = 9005 )\n",
        "emps = emps.append(new_emp2)\n",
        "print(emps)\n",
        "emps_salary = emps.join(salary, how = 'left')\n",
        "print(emps_salary)"
      ],
      "metadata": {
        "colab": {
          "base_uri": "https://localhost:8080/"
        },
        "id": "zbC131PaGpWh",
        "outputId": "9ee26976-89e1-4ca2-bf6e-49de64414d1c"
      },
      "execution_count": 49,
      "outputs": [
        {
          "output_type": "stream",
          "name": "stdout",
          "text": [
            "               Name       Job\n",
            "Empno                        \n",
            "9001   Jeff Russell     sales\n",
            "9002   Jane Boorman     sales\n",
            "9003     Tom Heints     sales\n",
            "9004     John Hardy     sales\n",
            "9004     John Hardy     sales\n",
            "9005     Al Franken  Comedian\n",
            "9005                 Comedian\n",
            "9005                 Comedian\n",
            "9005                 Comedian\n",
            "              Name       Job  Salary\n",
            "9001  Jeff Russell     sales  3000.0\n",
            "9002  Jane Boorman     sales  2800.0\n",
            "9003    Tom Heints     sales  2500.0\n",
            "9004    John Hardy     sales     NaN\n",
            "9004    John Hardy     sales     NaN\n",
            "9005    Al Franken  Comedian     NaN\n",
            "9005                Comedian     NaN\n",
            "9005                Comedian     NaN\n",
            "9005                Comedian     NaN\n"
          ]
        },
        {
          "output_type": "stream",
          "name": "stderr",
          "text": [
            "<ipython-input-49-12177ad00c62>:2: FutureWarning: The frame.append method is deprecated and will be removed from pandas in a future version. Use pandas.concat instead.\n",
            "  emps = emps.append(new_emp2)\n"
          ]
        }
      ]
    },
    {
      "cell_type": "code",
      "source": [
        "emps_salary = emps_salary.drop(emps_salary.index[7])\n",
        "\n"
      ],
      "metadata": {
        "colab": {
          "base_uri": "https://localhost:8080/",
          "height": 304
        },
        "id": "YtPy0IL6G8Pg",
        "outputId": "8a2d977f-ee30-49ad-f1a0-44ed3f9621c7"
      },
      "execution_count": 53,
      "outputs": [
        {
          "output_type": "error",
          "ename": "IndexError",
          "evalue": "ignored",
          "traceback": [
            "\u001b[0;31m---------------------------------------------------------------------------\u001b[0m",
            "\u001b[0;31mIndexError\u001b[0m                                Traceback (most recent call last)",
            "\u001b[0;32m<ipython-input-53-cefb6477c845>\u001b[0m in \u001b[0;36m<cell line: 1>\u001b[0;34m()\u001b[0m\n\u001b[0;32m----> 1\u001b[0;31m \u001b[0memps_salary\u001b[0m \u001b[0;34m=\u001b[0m \u001b[0memps_salary\u001b[0m\u001b[0;34m.\u001b[0m\u001b[0mdrop\u001b[0m\u001b[0;34m(\u001b[0m\u001b[0memps_salary\u001b[0m\u001b[0;34m.\u001b[0m\u001b[0mindex\u001b[0m\u001b[0;34m[\u001b[0m\u001b[0;36m7\u001b[0m\u001b[0;34m]\u001b[0m\u001b[0;34m)\u001b[0m\u001b[0;34m\u001b[0m\u001b[0;34m\u001b[0m\u001b[0m\n\u001b[0m\u001b[1;32m      2\u001b[0m \u001b[0mprint\u001b[0m\u001b[0;34m(\u001b[0m\u001b[0memps_salary\u001b[0m\u001b[0;34m)\u001b[0m\u001b[0;34m\u001b[0m\u001b[0;34m\u001b[0m\u001b[0m\n",
            "\u001b[0;32m/usr/local/lib/python3.10/dist-packages/pandas/core/indexes/base.py\u001b[0m in \u001b[0;36m__getitem__\u001b[0;34m(self, key)\u001b[0m\n\u001b[1;32m   5318\u001b[0m             \u001b[0;31m# GH#44051 exclude bool, which would return a 2d ndarray\u001b[0m\u001b[0;34m\u001b[0m\u001b[0;34m\u001b[0m\u001b[0m\n\u001b[1;32m   5319\u001b[0m             \u001b[0mkey\u001b[0m \u001b[0;34m=\u001b[0m \u001b[0mcom\u001b[0m\u001b[0;34m.\u001b[0m\u001b[0mcast_scalar_indexer\u001b[0m\u001b[0;34m(\u001b[0m\u001b[0mkey\u001b[0m\u001b[0;34m,\u001b[0m \u001b[0mwarn_float\u001b[0m\u001b[0;34m=\u001b[0m\u001b[0;32mTrue\u001b[0m\u001b[0;34m)\u001b[0m\u001b[0;34m\u001b[0m\u001b[0;34m\u001b[0m\u001b[0m\n\u001b[0;32m-> 5320\u001b[0;31m             \u001b[0;32mreturn\u001b[0m \u001b[0mgetitem\u001b[0m\u001b[0;34m(\u001b[0m\u001b[0mkey\u001b[0m\u001b[0;34m)\u001b[0m\u001b[0;34m\u001b[0m\u001b[0;34m\u001b[0m\u001b[0m\n\u001b[0m\u001b[1;32m   5321\u001b[0m \u001b[0;34m\u001b[0m\u001b[0m\n\u001b[1;32m   5322\u001b[0m         \u001b[0;32mif\u001b[0m \u001b[0misinstance\u001b[0m\u001b[0;34m(\u001b[0m\u001b[0mkey\u001b[0m\u001b[0;34m,\u001b[0m \u001b[0mslice\u001b[0m\u001b[0;34m)\u001b[0m\u001b[0;34m:\u001b[0m\u001b[0;34m\u001b[0m\u001b[0;34m\u001b[0m\u001b[0m\n",
            "\u001b[0;31mIndexError\u001b[0m: index 7 is out of bounds for axis 0 with size 5"
          ]
        }
      ]
    },
    {
      "cell_type": "code",
      "source": [
        "emps_salary = emps_salary.drop(emps_salary.index[4])\n",
        "\n",
        "\n"
      ],
      "metadata": {
        "id": "hycVNLA_JnBh"
      },
      "execution_count": 61,
      "outputs": []
    },
    {
      "cell_type": "code",
      "source": [
        "print(emps_salary)\n",
        "new_emp = pd.Series({'Name':'John Hardy', 'Job': 'sales'}, name = 9004)\n",
        "emps = emps.append(new_emp)\n",
        "[print(emps)]"
      ],
      "metadata": {
        "colab": {
          "base_uri": "https://localhost:8080/"
        },
        "id": "iVrJ3P-QJz35",
        "outputId": "e2e03b64-8ce9-4d1a-8431-69976de5372a"
      },
      "execution_count": 63,
      "outputs": [
        {
          "output_type": "stream",
          "name": "stdout",
          "text": [
            "              Name    Job  Salary\n",
            "9001  Jeff Russell  sales  3000.0\n",
            "9002  Jane Boorman  sales  2800.0\n",
            "9003    Tom Heints  sales  2500.0\n",
            "               Name       Job\n",
            "Empno                        \n",
            "9001   Jeff Russell     sales\n",
            "9002   Jane Boorman     sales\n",
            "9003     Tom Heints     sales\n",
            "9004     John Hardy     sales\n",
            "9004     John Hardy     sales\n",
            "9005     Al Franken  Comedian\n",
            "9005                 Comedian\n",
            "9005                 Comedian\n",
            "9005                 Comedian\n",
            "9004     John Hardy     sales\n"
          ]
        },
        {
          "output_type": "stream",
          "name": "stderr",
          "text": [
            "<ipython-input-63-b0c09f239efe>:3: FutureWarning: The frame.append method is deprecated and will be removed from pandas in a future version. Use pandas.concat instead.\n",
            "  emps = emps.append(new_emp)\n"
          ]
        },
        {
          "output_type": "execute_result",
          "data": {
            "text/plain": [
              "[None]"
            ]
          },
          "metadata": {},
          "execution_count": 63
        }
      ]
    },
    {
      "cell_type": "code",
      "source": [
        "emps = emps.drop(emps.index[5:])\n",
        "print(emps)"
      ],
      "metadata": {
        "colab": {
          "base_uri": "https://localhost:8080/"
        },
        "id": "9GTSmJomKBwg",
        "outputId": "7d11a27b-e3af-446c-8f0a-127ca4622883"
      },
      "execution_count": 64,
      "outputs": [
        {
          "output_type": "stream",
          "name": "stdout",
          "text": [
            "               Name    Job\n",
            "Empno                     \n",
            "9001   Jeff Russell  sales\n",
            "9002   Jane Boorman  sales\n",
            "9003     Tom Heints  sales\n"
          ]
        }
      ]
    },
    {
      "cell_type": "code",
      "source": [
        "new_emp = pd.Series({'Name':'John Hardy', 'Job': 'sales'}, name = 9004)\n",
        "emps = emps.append(new_emp)\n",
        "[print(emps)]"
      ],
      "metadata": {
        "colab": {
          "base_uri": "https://localhost:8080/"
        },
        "id": "fFggd2lUJ7-n",
        "outputId": "8c0d7717-63f8-4ea6-d0ea-c982a9d878e6"
      },
      "execution_count": 65,
      "outputs": [
        {
          "output_type": "stream",
          "name": "stdout",
          "text": [
            "               Name    Job\n",
            "Empno                     \n",
            "9001   Jeff Russell  sales\n",
            "9002   Jane Boorman  sales\n",
            "9003     Tom Heints  sales\n",
            "9004     John Hardy  sales\n"
          ]
        },
        {
          "output_type": "stream",
          "name": "stderr",
          "text": [
            "<ipython-input-65-b601e8f0933c>:2: FutureWarning: The frame.append method is deprecated and will be removed from pandas in a future version. Use pandas.concat instead.\n",
            "  emps = emps.append(new_emp)\n"
          ]
        },
        {
          "output_type": "execute_result",
          "data": {
            "text/plain": [
              "[None]"
            ]
          },
          "metadata": {},
          "execution_count": 65
        }
      ]
    },
    {
      "cell_type": "code",
      "source": [
        "emps_salary = emps.join(salary, how = 'inner')\n",
        "print(emps_salary)"
      ],
      "metadata": {
        "colab": {
          "base_uri": "https://localhost:8080/"
        },
        "id": "u2h6RodRKR1O",
        "outputId": "6bebe23d-18dd-46cd-8309-baf51571e400"
      },
      "execution_count": 69,
      "outputs": [
        {
          "output_type": "stream",
          "name": "stdout",
          "text": [
            "              Name    Job  Salary\n",
            "9001  Jeff Russell  sales    3000\n",
            "9002  Jane Boorman  sales    2800\n",
            "9003    Tom Heints  sales    2500\n"
          ]
        }
      ]
    }
  ]
}