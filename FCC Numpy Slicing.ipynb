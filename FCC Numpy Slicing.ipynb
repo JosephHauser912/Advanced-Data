{
  "nbformat": 4,
  "nbformat_minor": 0,
  "metadata": {
    "colab": {
      "provenance": [],
      "authorship_tag": "ABX9TyMszBAI6be9ns/m5xHmRTB8",
      "include_colab_link": true
    },
    "kernelspec": {
      "name": "python3",
      "display_name": "Python 3"
    },
    "language_info": {
      "name": "python"
    }
  },
  "cells": [
    {
      "cell_type": "markdown",
      "metadata": {
        "id": "view-in-github",
        "colab_type": "text"
      },
      "source": [
        "<a href=\"https://colab.research.google.com/github/JosephHauser912/Advanced-Data/blob/main/FCC%20Numpy%20Slicing.ipynb\" target=\"_parent\"><img src=\"https://colab.research.google.com/assets/colab-badge.svg\" alt=\"Open In Colab\"/></a>"
      ]
    },
    {
      "cell_type": "code",
      "source": [
        "import numpy as np"
      ],
      "metadata": {
        "id": "4Yn6FFr8nodL"
      },
      "execution_count": 3,
      "outputs": []
    },
    {
      "cell_type": "code",
      "execution_count": 4,
      "metadata": {
        "id": "c7ojgQ_znid0"
      },
      "outputs": [],
      "source": [
        "b = np.random.rand(1000000)"
      ]
    },
    {
      "cell_type": "code",
      "source": [
        "%timeit sum(b)\n",
        "%timeit np.sum(b)"
      ],
      "metadata": {
        "colab": {
          "base_uri": "https://localhost:8080/"
        },
        "id": "-hmlA3Fgntbb",
        "outputId": "7d04d0bd-ae4e-416b-9229-6199fa7acb1f"
      },
      "execution_count": 5,
      "outputs": [
        {
          "output_type": "stream",
          "name": "stdout",
          "text": [
            "102 ms ± 28.5 ms per loop (mean ± std. dev. of 7 runs, 10 loops each)\n",
            "415 µs ± 61.4 µs per loop (mean ± std. dev. of 7 runs, 1000 loops each)\n"
          ]
        }
      ]
    },
    {
      "cell_type": "code",
      "source": [
        "def mySum(G):\n",
        "  s = 0\n",
        "  for x in G:\n",
        "    s+=x\n",
        "  return s\n",
        "  "
      ],
      "metadata": {
        "id": "DVVkL7OnoHqJ"
      },
      "execution_count": 6,
      "outputs": []
    },
    {
      "cell_type": "code",
      "source": [
        "A = np.round(10*np.random.rand(5,4))"
      ],
      "metadata": {
        "id": "Q64mtu3LoQdx"
      },
      "execution_count": 7,
      "outputs": []
    },
    {
      "cell_type": "code",
      "source": [
        "A"
      ],
      "metadata": {
        "colab": {
          "base_uri": "https://localhost:8080/"
        },
        "id": "aiK-kO-IoFgj",
        "outputId": "171a1d77-2218-40da-f85c-3b3deb8ffd6f"
      },
      "execution_count": 8,
      "outputs": [
        {
          "output_type": "execute_result",
          "data": {
            "text/plain": [
              "array([[ 4.,  3.,  5.,  5.],\n",
              "       [ 9.,  3.,  6.,  3.],\n",
              "       [ 6.,  6.,  1.,  1.],\n",
              "       [ 3.,  1.,  9.,  4.],\n",
              "       [10.,  3.,  8.,  3.]])"
            ]
          },
          "metadata": {},
          "execution_count": 8
        }
      ]
    },
    {
      "cell_type": "code",
      "source": [
        "A[1,2]"
      ],
      "metadata": {
        "colab": {
          "base_uri": "https://localhost:8080/"
        },
        "id": "2UMNnqdFoH5S",
        "outputId": "40d4519f-53dd-409c-bc79-05372cfa8662"
      },
      "execution_count": 9,
      "outputs": [
        {
          "output_type": "execute_result",
          "data": {
            "text/plain": [
              "6.0"
            ]
          },
          "metadata": {},
          "execution_count": 9
        }
      ]
    },
    {
      "cell_type": "code",
      "source": [
        "A[1,:]"
      ],
      "metadata": {
        "colab": {
          "base_uri": "https://localhost:8080/"
        },
        "id": "ZzKfCI0XoLNX",
        "outputId": "8e15051d-7267-4109-ee45-476a33a6419f"
      },
      "execution_count": 11,
      "outputs": [
        {
          "output_type": "execute_result",
          "data": {
            "text/plain": [
              "array([9., 3., 6., 3.])"
            ]
          },
          "metadata": {},
          "execution_count": 11
        }
      ]
    },
    {
      "cell_type": "code",
      "source": [
        "A[:,1]"
      ],
      "metadata": {
        "colab": {
          "base_uri": "https://localhost:8080/"
        },
        "id": "sZeG1M9doVsY",
        "outputId": "6cedaba3-8375-4595-b4b8-1cbf1888d947"
      },
      "execution_count": 12,
      "outputs": [
        {
          "output_type": "execute_result",
          "data": {
            "text/plain": [
              "array([3., 3., 6., 1., 3.])"
            ]
          },
          "metadata": {},
          "execution_count": 12
        }
      ]
    },
    {
      "cell_type": "code",
      "source": [
        "A[1:3,2:4]"
      ],
      "metadata": {
        "colab": {
          "base_uri": "https://localhost:8080/"
        },
        "id": "aVusSZ_CoagH",
        "outputId": "1ed3e42b-ec07-44bc-d8b3-0b90ef91f7ef"
      },
      "execution_count": 13,
      "outputs": [
        {
          "output_type": "execute_result",
          "data": {
            "text/plain": [
              "array([[6., 3.],\n",
              "       [1., 1.]])"
            ]
          },
          "metadata": {},
          "execution_count": 13
        }
      ]
    },
    {
      "cell_type": "code",
      "source": [
        "A.T"
      ],
      "metadata": {
        "colab": {
          "base_uri": "https://localhost:8080/"
        },
        "id": "9Pvonrl4orrH",
        "outputId": "332c75dc-ec4c-4b2a-8fbc-ce91ba30e735"
      },
      "execution_count": 14,
      "outputs": [
        {
          "output_type": "execute_result",
          "data": {
            "text/plain": [
              "array([[ 4.,  9.,  6.,  3., 10.],\n",
              "       [ 3.,  3.,  6.,  1.,  3.],\n",
              "       [ 5.,  6.,  1.,  9.,  8.],\n",
              "       [ 5.,  3.,  1.,  4.,  3.]])"
            ]
          },
          "metadata": {},
          "execution_count": 14
        }
      ]
    },
    {
      "cell_type": "code",
      "source": [
        "import numpy.linalg as la\n"
      ],
      "metadata": {
        "id": "_5uuBrboot9-"
      },
      "execution_count": 15,
      "outputs": []
    },
    {
      "cell_type": "markdown",
      "source": [
        "la.inv(np.random.rand(3,3))"
      ],
      "metadata": {
        "id": "VHn2N5ixowLk"
      }
    },
    {
      "cell_type": "code",
      "source": [
        "A.sort(axis=1)\n",
        "A"
      ],
      "metadata": {
        "colab": {
          "base_uri": "https://localhost:8080/"
        },
        "id": "CA1tqMAbo7S8",
        "outputId": "9e86584d-8a1e-41c9-8661-2ec52e7c0da1"
      },
      "execution_count": 19,
      "outputs": [
        {
          "output_type": "execute_result",
          "data": {
            "text/plain": [
              "array([[ 1.,  1.,  1.,  3.],\n",
              "       [ 3.,  3.,  4.,  5.],\n",
              "       [ 3.,  3.,  6.,  6.],\n",
              "       [ 3.,  4.,  8.,  9.],\n",
              "       [ 5.,  6.,  9., 10.]])"
            ]
          },
          "metadata": {},
          "execution_count": 19
        }
      ]
    },
    {
      "cell_type": "code",
      "source": [],
      "metadata": {
        "id": "s3yzV18Io5JG"
      },
      "execution_count": null,
      "outputs": []
    }
  ]
}